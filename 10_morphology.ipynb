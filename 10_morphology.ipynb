{
  "cells": [
    {
      "cell_type": "markdown",
      "metadata": {
        "id": "p16XXhXCbwvC"
      },
      "source": [
        "# Przekształcenia morfologiczne\n",
        "\n",
        "## Cel:\n",
        "- zapoznanie z podstawowymi przekształceniami morfologicznymi – erozją, dylatacją, otwarciem, zamknieciem, transformacją trafi, nie trafi,\n",
        "- zapoznanie ze złożonymi operacjami morfologicznymi wykorzystującymi rekonstrukcję morfologiczną,\n",
        "- zapoznanie z operacjami morfologicznym dla obrazów w odcieniach szarości – erozją, dylatacją, otwarciem, zamknieciem, filtrami top-hat i bottom-hat,\n",
        "- zapoznanie z wykorzystaniem złożonych operacji morfologicznych przy rozwiązywaniu konkretnego problemu,\n",
        "- zadanie domowe: wykorzystanie morfologii do implementacji ,,gry w życie''."
      ]
    },
    {
      "cell_type": "markdown",
      "metadata": {
        "id": "U7NMAKCZbwvG"
      },
      "source": [
        "## Przypomnienie teorii\n",
        "\n",
        "### Element strukturalny\n",
        "\n",
        "Element strukturalny obrazu jest to pewien wycinek obrazu (przy dyskretnej reprezentacji obrazu – pewien podzbiór jego elementów). Najcześciej stosowanym elementem strukturalnym jest kwadratowa maska o rozmiarze 3×3 lub 5×5. Niekiedy pożądane są maski o innym kształcie, np. zbliżonym do elipsy.\n",
        "\n",
        "### Erozja\n",
        "\n",
        "Erozja (ang. _erosion_) jest podstawowym przekształceniem morfologicznym. Zakładamy, że obraz wyjściowy zawiera pewien obszar (figurę) X, wyróżniający się pewną charakterystyczną cechą (np. odróżniającą się od tła jasnością). Figura X po wykonaniu operacji erozji to zbiór punktów centralnych wszystkich elementów strukturalnych, które w całości mieszczą się we wnetrzu obszaru X. Miarą stopnia erozji jest wielkość elementu strukturalnego.\n",
        "\n",
        "Erozje można traktować jako filtr minimalny, tj. z danego otoczenia piksela (określanego przez maskę) do obrazu wynikowego wybierana jest wartość minimalna.\n",
        "\n",
        "### Dylatacja\n",
        "\n",
        "Dylatacja (ang. _dilation_): Zakładamy, że obraz wejściowy zawiera obszar X wyróżniający się pewną charakterystyczną cechą (np. jasnością). Figura przekształcona przez dylatacje to zbiór punktów centralnych wszystkich elementów strukturalnych, których którykolwiek punkt mieści sie we wnetrzu obszaru X. Miarą  dylatacji jest wielkość elementu strukturalnego.\n",
        "\n",
        "Dylatacje można traktować jako filtr maksymalny, tj. z danego otoczenia piksela (określanego\n",
        "przez maske) do obrazu wynikowego wybierana jest wartość maksymalna.\n",
        "\n",
        "### Otwarcie i zamknięcie\n",
        "\n",
        "Otwarcie (ang. _opening_) polega na wykonaniu najpierw operacji erozji, a nastepnie dylatacji.\n",
        "\n",
        "> Otwarcie = erozja + dylatacja\n",
        "\n",
        "Zamkniecie (ang. _closing_) polega na wykonaniu najpierw operacji dylatacji, a nastepnie erozji.\n",
        "\n",
        "> Zamkniecie = dylatacja + erozja\n",
        "\n",
        "### Obrazy w odcieniu szarości\n",
        "\n",
        "Obrazy w odcieniu szarości – detekcja dolin i szczytów (top-hat, bottom-hat):\n",
        "\n",
        "Aby wyodrebnić z obrazu lokalne ekstrema można wykorzystać zdefiniowane wcześniej przekształcenia: otwarcie i zamkniecie. W celu wyszukania lokalnych maksimów (szczytów) należy od wyniku otwarcia danego obrazu odjąć obraz wyjściowy. Analogicznie, aby wyodrebnić lokalne minima obrazu, należy dokonać podobnej operacji, z tym że pierwszą operacją bedzie zamkniecie. Uwaga! Należy zwrócić uwagę, że poniższe metody służą do detekcji (pokreślenia) tylko lokalnych ekstremów!"
      ]
    },
    {
      "cell_type": "markdown",
      "metadata": {
        "id": "z8oiISpnbwvH"
      },
      "source": [
        "## Podstawowe operacje morfologiczne: erozja, dylatacja, otwarcie, zamknięcie, trafi nie trafi\n",
        "\n",
        "1. Wczytaj obraz ertka.bmp\n",
        "2. Wykonaj operację erozji `cv2.erode`. Parametrami funkcji są obraz oraz element strukturalny. Element można stworzyć samodzielnie jako tablicę składającą się z 0 i 1 `np.ones((3,3))` lub posłużyć się funkcją `cv2.getStructuringElement`, do której należy podać kształt `cv2.MORPH_RECT` oraz wielkość elementu `(3,3)`. Na początku użyj kwadratu o rozmiarze 3 pikseli.\n",
        "3. Wyświetl obraz oryginalny oraz po wykonaniu erozji – najlepiej na wspólnym wykresie. Upewnij się, że rozumiesz, jak działa erozja.\n",
        "4. Zmień element strukturalny (inny kształt – koło, diament lub inny rozmiar). Ponownie wykonaj erozję, sprawdź rezultat działania operacji.\n",
        "5. Oprócz zmiany elementu strukturalnego na rezultat erozji można wpłynąć zwiększając liczbę iteracji (np. wykonać erozję trzykrotnie). Ustal element strukturalny na kwadrat o boku 3 piksele. Wykonaj erozję obrazu _ertka_ dwukrotnie, a następnie trzykrotnie. Zaobserwuj rezultaty. Wskazówka: warto zajrzeć do dokumentacji funkcji `erode`.\n",
        "6. Wczytaj obraz buzka.bmp. Dobierz element strukturalny (zdefiniuj go ręcznie jako macierz 0 i 1) w taki sposób, aby usunąć włosy o określonej orientacji (ukośnie lewo lub prawo).\n",
        "7. Uwaga: pokazane metody wpływania na rezultaty erozji wykorzystuje się identycznie dla pozostałych operacji morfologicznych – dylatacji, otwarcia i zamknięcia.\n",
        "8. Operacją odwrotną do erozji jest dylatacja `cv2.dilate`. Ustal element strukturalny na kwadrat o boku 3 piksele. Wykonaj dylatację obrazu _ertka_. Zapoznaj się z rezultatem działania.\n",
        "9. Na wspólnym wykresie wyświetl obraz oryginalny oraz obrazy po operacjach morfologicznych: erozja, dylatacja, otwarcie i zamkniecie. Otwarcie i zamknięcie można uzyskać za pomocą `cv2.morphologyEx(img, operacja, element_strukturalny)`, gdzie typem operacji jest `cv2.MORPH_OPEN` lub `cv2.MORPH_CLOSE`.\n",
        "10. Zmień obraz _ertka_ na _wyspa_, a następnie na _kolka_. Wykonaj na każdym cztery przedstawione operacje morfologiczne. Zaobserwuj rezultaty.\n",
        "11. Minizadanko: wykorzystując poznane operacje morfologiczne spowoduj, że na obrazie _ertka_ pozostanie tylko napis RT (bez wypustek i dziur).\n",
        "12. Niekiedy potrzebne jest wykrycie konkretnych konfiguracji pikseli na obrazie – przydaje się do tego transformacja trafi, nie trafi (ang. _hit-or-miss_). Pozwala ona wykryć na obrazie obecność elementów, które dokładnie odpowiadają masce.\n",
        "13. Wczytaj obraz hom.bmp. Wyświetl go. Załóżmy, że chcemy wykryć na obrazie krzyżyki 3x3. Zdefiniuj następujący element strukturalny:\n",
        "```\n",
        "[0,1,0]\n",
        "[1,1,1]\n",
        "[0,1,0]\n",
        "```\n",
        "Wykonaj transformację trafi, nie trafi – `cv2.morphologyEx(hom, cv2.MORPH_HITMISS, se1)`. Rezultat operacji wyświetl. Czy udało się zrealizować zadanie? Jeżeli pojawiają się u Państwa błędy związane z typem danych, należy obraz wejściowy przekonwertować na skalę szarości: `cv2.cvtColor(hom, cv2.COLOR_BGR2GRAY)`.\n"
      ]
    },
    {
      "cell_type": "code",
      "execution_count": null,
      "metadata": {
        "id": "90k3o2mFbwvI"
      },
      "outputs": [],
      "source": [
        "import matplotlib.pyplot as plt\n",
        "import cv2\n",
        "import numpy as np\n",
        "import os\n",
        "\n",
        "if not os.path.exists(\"buzka.bmp\") :\n",
        "    !wget https://raw.githubusercontent.com/vision-agh/poc_sw/master/10_Morphology/buzka.bmp --no-check-certificate\n",
        "if not os.path.exists(\"calculator.bmp\") :\n",
        "    !wget https://raw.githubusercontent.com/vision-agh/poc_sw/master/10_Morphology/calculator.bmp --no-check-certificate\n",
        "if not os.path.exists(\"ertka.bmp\") :\n",
        "    !wget https://raw.githubusercontent.com/vision-agh/poc_sw/master/10_Morphology/ertka.bmp --no-check-certificate\n",
        "if not os.path.exists(\"ferrari.bmp\") :\n",
        "    !wget https://raw.githubusercontent.com/vision-agh/poc_sw/master/10_Morphology/ferrari.bmp --no-check-certificate\n",
        "if not os.path.exists(\"fingerprint.bmp\") :\n",
        "    !wget https://raw.githubusercontent.com/vision-agh/poc_sw/master/10_Morphology/fingerprint.bmp --no-check-certificate\n",
        "if not os.path.exists(\"hom.bmp\") :\n",
        "    !wget https://raw.githubusercontent.com/vision-agh/poc_sw/master/10_Morphology/hom.bmp --no-check-certificate\n",
        "if not os.path.exists(\"kolka.bmp\") :\n",
        "    !wget https://raw.githubusercontent.com/vision-agh/poc_sw/master/10_Morphology/kolka.bmp --no-check-certificate\n",
        "if not os.path.exists(\"kosc.bmp\") :\n",
        "    !wget https://raw.githubusercontent.com/vision-agh/poc_sw/master/10_Morphology/kosc.bmp --no-check-certificate\n",
        "if not os.path.exists(\"szkielet.bmp\") :\n",
        "    !wget https://raw.githubusercontent.com/vision-agh/poc_sw/master/10_Morphology/szkielet.bmp --no-check-certificate\n",
        "if not os.path.exists(\"text.bmp\") :\n",
        "    !wget https://raw.githubusercontent.com/vision-agh/poc_sw/master/10_Morphology/text.bmp --no-check-certificate\n",
        "if not os.path.exists(\"wyspa.bmp\") :\n",
        "    !wget https://raw.githubusercontent.com/vision-agh/poc_sw/master/10_Morphology/wyspa.bmp --no-check-certificate\n",
        "if not os.path.exists(\"rice.png\") :\n",
        "    !wget https://raw.githubusercontent.com/vision-agh/poc_sw/master/10_Morphology/rice.png --no-check-certificate\n",
        "\n",
        "I_buzka = cv2.imread('buzka.bmp', cv2.IMREAD_GRAYSCALE)\n",
        "I_calculator = cv2.imread('calculator.bmp', cv2.IMREAD_GRAYSCALE)\n",
        "I_ertka = cv2.imread('ertka.bmp', cv2.IMREAD_GRAYSCALE)\n",
        "I_kolka = cv2.imread('kolka.bmp', cv2.IMREAD_GRAYSCALE)\n",
        "I_hom = cv2.imread('hom.bmp', cv2.IMREAD_GRAYSCALE)\n",
        "I_ferrari = cv2.imread('ferrari.bmp', cv2.IMREAD_GRAYSCALE)\n",
        "I_text = cv2.imread('text.bmp', cv2.IMREAD_GRAYSCALE)\n",
        "I_wyspa = cv2.imread('wyspa.bmp', cv2.IMREAD_GRAYSCALE)\n",
        "I_rice = cv2.imread('rice.png', cv2.IMREAD_GRAYSCALE)\n"
      ]
    },
    {
      "cell_type": "code",
      "source": [
        "ertka_erode = cv2.erode(I_ertka,np.ones((3,3)))\n",
        "\n",
        "f, ax = plt.subplots(1, 2)\n",
        "ax[0].imshow(I_ertka, 'gray')\n",
        "ax[0].axis('off')\n",
        "ax[1].imshow(ertka_erode, 'gray')\n",
        "ax[1].axis('off')\n",
        "plt.show()\n",
        "\n",
        "elipsa = cv2.getStructuringElement(cv2.MORPH_ELLIPSE,(5,5))\n",
        "ertka_erode2 = cv2.erode(I_ertka, elipsa)\n",
        "plt.imshow(ertka_erode2, 'gray')\n",
        "plt.axis('off')\n",
        "plt.show()\n",
        "\n",
        "kwadrat = np.ones((3, 3))\n",
        "ertka_erode2x = cv2.erode(I_ertka, kwadrat, iterations=2)\n",
        "ertka_erode3x = cv2.erode(I_ertka, kwadrat, iterations=3)\n",
        "\n",
        "f, ax = plt.subplots(1, 2)\n",
        "ax[0].imshow(ertka_erode2x, 'gray')\n",
        "ax[0].axis('off')\n",
        "ax[1].imshow(ertka_erode3x, 'gray')\n",
        "ax[1].axis('off')\n",
        "plt.show()"
      ],
      "metadata": {
        "id": "HKvtQwred9H4"
      },
      "execution_count": null,
      "outputs": []
    },
    {
      "cell_type": "code",
      "source": [
        "I_buzka = cv2.imread('buzka.bmp', cv2.IMREAD_GRAYSCALE)\n",
        "plt.imshow(I_buzka, 'gray')\n",
        "plt.axis('off')\n",
        "plt.show()\n",
        "\n",
        "struktura = np.array([[0, 0, 1], [0, 1, 0], [1, 0, 0]], np.uint8)\n",
        "buzka_erode = cv2.erode(I_buzka, struktura)\n",
        "plt.imshow(buzka_erode, 'gray')\n",
        "plt.axis('off')\n",
        "plt.show()"
      ],
      "metadata": {
        "id": "LgVArp7Yi7DU"
      },
      "execution_count": null,
      "outputs": []
    },
    {
      "cell_type": "code",
      "source": [
        "ertka_dilate = cv2.dilate(I_ertka, kwadrat)\n",
        "plt.imshow(ertka_dilate, 'gray')\n",
        "plt.axis('off')\n",
        "plt.show()"
      ],
      "metadata": {
        "id": "iKURNvsclaz2"
      },
      "execution_count": null,
      "outputs": []
    },
    {
      "cell_type": "code",
      "source": [
        "def obrazy(img, structure):\n",
        "    dilate = cv2.dilate(img, structure)\n",
        "    erode = cv2.erode(img, structure)\n",
        "    open = cv2.morphologyEx(img, cv2.MORPH_OPEN, structure)\n",
        "    close = cv2.morphologyEx(img, cv2.MORPH_CLOSE, structure)\n",
        "    \n",
        "    f, ax = plt.subplots(1,5)\n",
        "    ax[0].imshow(img, 'gray')\n",
        "    ax[0].set_title('Oryginalny')\n",
        "    ax[0].axis('off')\n",
        "    ax[1].imshow(dilate, 'gray')\n",
        "    ax[1].set_title('Dylatacja')\n",
        "    ax[1].axis('off')\n",
        "    ax[2].imshow(erode, 'gray')\n",
        "    ax[2].set_title('Erozja')\n",
        "    ax[2].axis('off')\n",
        "    ax[3].imshow(open, 'gray')\n",
        "    ax[3].set_title('Otwarcie')\n",
        "    ax[3].axis('off')\n",
        "    ax[4].imshow(close, 'gray')\n",
        "    ax[4].set_title('Zamknięcie')\n",
        "    ax[4].axis('off')\n",
        "    plt.show()"
      ],
      "metadata": {
        "id": "XmcLRlFdl2iQ"
      },
      "execution_count": null,
      "outputs": []
    },
    {
      "cell_type": "code",
      "source": [
        "obrazy(I_ertka, kwadrat)\n",
        "obrazy(I_wyspa, kwadrat)\n",
        "obrazy(I_kolka, kwadrat)"
      ],
      "metadata": {
        "id": "y639X0bqm6pM"
      },
      "execution_count": null,
      "outputs": []
    },
    {
      "cell_type": "code",
      "source": [
        "I_ertka_otw = cv2.morphologyEx(I_ertka, cv2.MORPH_OPEN, kwadrat)\n",
        "I_ertka_dilate = cv2.dilate(I_ertka_otw, kwadrat)\n",
        "plt.imshow(I_ertka_dilate, 'gray')\n",
        "plt.axis('off')\n",
        "plt.show()"
      ],
      "metadata": {
        "id": "mbOOFSZMoTg8"
      },
      "execution_count": null,
      "outputs": []
    },
    {
      "cell_type": "code",
      "source": [
        "cross = np.array([[0,1,0],[1,1,1],[0,1,0]],np.uint8)\n",
        "hom_hitormiss = cv2.morphologyEx(I_hom, cv2.MORPH_HITMISS, cross)\n",
        "\n",
        "f, ax = plt.subplots(1, 2)\n",
        "ax[0].imshow(I_hom, 'gray')\n",
        "ax[0].axis('off')\n",
        "ax[1].imshow(hom_hitormiss, 'gray')\n",
        "ax[1].axis('off')\n",
        "plt.show()"
      ],
      "metadata": {
        "id": "cebbqdbqpWcE"
      },
      "execution_count": null,
      "outputs": []
    },
    {
      "cell_type": "markdown",
      "metadata": {
        "id": "jAODvgBybwvK"
      },
      "source": [
        "## Inne operacje morfologiczne\n",
        "Do innych operacji morfologicznych należą między innymi ścienianie (ang. _thinning_), szkieletyzacja (ang. _skeletonization_), rekonstrukcja morfologiczna (ang. _morphological reconstruction_), czyszczenie brzegu (ang. _clearing border_) i uzupełnianie dziur (ang. _filling holes_). W tym rozdziale zostanie zaprezentowana rekonstrukcja morfologiczna.\n",
        "\n",
        "Rekonstrukcja morfologiczna jest operacją trójargumentową. Wymaga podania markera (obrazu, od którego zacznie się transformacja), maski (ograniczenia transformacji) oraz elementu strukturalnego. Operacja polega na wykonywaniu kroków (dopóki w dwóch kolejnych iteracjach nic się nie zmieni):\n",
        "- dylatacja obrazu markera (z danym elementem strukturalnym),\n",
        "- nowy marker = część wspólna dylatacji starego markera i maski.\n",
        "\n",
        "Trzy operacje, które wykorzystują schemat rekonstrukcji to: \n",
        "- otwarcie poprzez rekonstrukcję,\n",
        "- wypełnianie dziur,\n",
        "- czyszczenie brzegu.\n",
        "\n",
        "### Otwarcie poprzez rekonstrukcję:\n",
        "- Wczytaj obraz text.bmp, wyświetl go.\n",
        "- Załóżmy, że chcemy wykryć na obrazie litery, które zawierają długie pionowe fragmenty. W pierwszym podejściu stosujemy morfologiczne otwarcie z maską pionową o wysokości 51 pikseli (taka jest średnia wysokość liter na obrazie – `np.ones((51,1))`. Sprawdź rezultat takiej operacji.\n",
        "- Detekcja wprawdzie sie udała, ale otrzymujemy tylko pionowe kreski.\n",
        "- Rozwiązaniem jest rekonstrukcja – jako marker wybieramy obraz oryginalny poddany erozji. Maskę stanowi obraz oryginalny. Samodzielnie dobierz element strukturalny.\n",
        "- Zaimplementuj rekonstrukcję i porównaj efekt otwarcia i rekonstrukcji.\n"
      ]
    },
    {
      "cell_type": "code",
      "execution_count": null,
      "metadata": {
        "id": "GEEntbV6bwvK"
      },
      "outputs": [],
      "source": [
        "plt.imshow(I_text, 'gray')\n",
        "plt.axis('off')\n",
        "plt.show()\n",
        "\n",
        "maska = np.ones((51,1), dtype=np.uint8)\n",
        "text_open = cv2.morphologyEx(I_text, cv2.MORPH_OPEN, maska)\n",
        "plt.imshow(text_open, 'gray')\n",
        "plt.axis('off')\n",
        "plt.show()\n",
        "\n",
        "marker = cv2.erode(I_text, maska)\n",
        "while True:\n",
        "  dilate = cv2.dilate(marker, np.ones((3, 3)))\n",
        "  dilate = cv2.bitwise_and(dilate, I_text)\n",
        "  if (marker == dilate).all():\n",
        "    marker = dilate\n",
        "    break\n",
        "  marker = dilate\n",
        "  \n",
        "plt.imshow(marker, 'gray')\n",
        "plt.axis('off')\n",
        "plt.show()"
      ]
    },
    {
      "cell_type": "markdown",
      "metadata": {
        "id": "p5xTMJxfbwvL"
      },
      "source": [
        "## Operacje morfologiczne dla obrazów w skali szarości\n",
        "\n",
        "Wszystkie dotychczasowe operacje (oprócz transformacji trafi, nie trafi) mają swoje odpowieniki dla obrazów w skali szarości. Konieczne jest tylko podanie definicji erozji i dylatacji w nieco innej formie:\n",
        "- Erozja – filtr minimalny.\n",
        "- Dylatacja – filtr maksymalny.\n",
        "\n",
        "\n",
        "1. Wczytaj obraz ferrari.bmp i wykonaj operacje morfologiczne: erozję i dylatację. Element strukturalny ustal na kwadrat 3×3. Oblicz też różnicę pomiędzy obrazem po dylatacji a po erozji – czyli tzw. gradient morfologiczny. Rezultaty wyświetl na wspólnym wykresie.\n",
        "2. Otwarcie to tłumienie jasnych detali na obrazie. Zamkniecie to tłumienie ciemnych detali na obrazie. Potwierdź powyższe stwierdzenia wykonując obie operacje na obrazie _ferrari_.\n",
        "3. Wykonaj operacje top-hat i bottom-hat `cv2.morphologyEx(img, cv2.MORPH_TOPHAT, strel)` oraz `cv2.morphologyEx(img, cv2.MORPH_BLACKHAT, strel)` na obrazie _ferrari_. Jakie obszary udało sie wykryć za pomocą tej operacji? Z jakich operacji składa sie filtr top-hat?\n",
        "4. Wczytaj obraz rice.png (z laboratorium o binaryzacji). Wyświetl go. Zwróć uwage na niejednorodne oświetlenie. Wykonaj operacje top-hat z dużym elementem strukturalnym (np. koło o rozmiarze 10) na tym obrazie. Wynik wyświetl. Co stało się z niejednorodnością oświetlenia?"
      ]
    },
    {
      "cell_type": "code",
      "execution_count": null,
      "metadata": {
        "pycharm": {
          "name": "#%%\n"
        },
        "id": "NmX9NEdBbwvL"
      },
      "outputs": [],
      "source": [
        "ferrari_dilate = cv2.dilate(I_ferrari, kwadrat)\n",
        "ferrari_erode = cv2.erode(I_ferrari, kwadrat)\n",
        "roznica = ferrari_dilate - ferrari_erode\n",
        "\n",
        "f, ax = plt.subplots(1,4)\n",
        "ax[0].imshow(I_ferrari, 'gray')\n",
        "ax[0].set_title('Oryginalny')\n",
        "ax[0].axis('off')\n",
        "ax[1].imshow(ferrari_dilate, 'gray')\n",
        "ax[1].set_title('Dylatacja')\n",
        "ax[1].axis('off')\n",
        "ax[2].imshow(ferrari_erode, 'gray')\n",
        "ax[2].set_title('Erozja')\n",
        "ax[2].axis('off')\n",
        "ax[3].imshow(roznica, 'gray')\n",
        "ax[3].set_title('Różnica')\n",
        "ax[3].axis('off')"
      ]
    },
    {
      "cell_type": "code",
      "source": [
        "ferrari_open = cv2.morphologyEx(I_ferrari, cv2.MORPH_OPEN, kwadrat)\n",
        "ferrari_close = cv2.morphologyEx(I_ferrari, cv2.MORPH_CLOSE, kwadrat)\n",
        "    \n",
        "plt.imshow(ferrari_open, 'gray')\n",
        "plt.axis('off')\n",
        "plt.show()\n",
        "\n",
        "plt.imshow(ferrari_close, 'gray')\n",
        "plt.axis('off')\n",
        "plt.show()"
      ],
      "metadata": {
        "id": "D8M61kBEiV3K"
      },
      "execution_count": null,
      "outputs": []
    },
    {
      "cell_type": "code",
      "source": [
        "ferrari_top = cv2.morphologyEx(I_ferrari, cv2.MORPH_TOPHAT, kwadrat)\n",
        "ferrari_bot = cv2.morphologyEx(I_ferrari, cv2.MORPH_BLACKHAT, kwadrat)\n",
        "\n",
        "plt.imshow(ferrari_top, 'gray')\n",
        "plt.axis('off')\n",
        "plt.show()\n",
        "\n",
        "plt.imshow(ferrari_bot, 'gray')\n",
        "plt.axis('off')\n",
        "plt.show()"
      ],
      "metadata": {
        "id": "JgNACdZGilEy"
      },
      "execution_count": null,
      "outputs": []
    },
    {
      "cell_type": "markdown",
      "source": [
        "TOPHAT wyróżnia jasne elementy na ciemnym tle, a BOTTOMHAT - ciemne elementy na jasnym tle. Filtr TOPHAT to odejmowanie wyniku otwierania od oryginalnego obrazu.\n"
      ],
      "metadata": {
        "id": "banbuIxrjIy7"
      }
    },
    {
      "cell_type": "code",
      "source": [
        "structure = cv2.getStructuringElement(cv2.MORPH_ELLIPSE, (10, 10))\n",
        "rice_top = cv2.morphologyEx(I_rice, cv2.MORPH_TOPHAT, structure)\n",
        "\n",
        "f, ax = plt.subplots(1,2)\n",
        "ax[0].imshow(I_rice, 'gray')\n",
        "ax[0].set_title('Oryginalny')\n",
        "ax[0].axis('off')\n",
        "ax[1].imshow(rice_top, 'gray')\n",
        "ax[1].set_title('TOPHAT')\n",
        "ax[1].axis('off')"
      ],
      "metadata": {
        "id": "Ww86faIujrNT"
      },
      "execution_count": null,
      "outputs": []
    },
    {
      "cell_type": "markdown",
      "source": [
        "Dzięki operacji, tło jest ciemniejsze, ale w jednolitym kolorze."
      ],
      "metadata": {
        "id": "P1pgJMnXkVyR"
      }
    },
    {
      "cell_type": "markdown",
      "metadata": {
        "id": "z_nf4Lg2bwvL"
      },
      "source": [
        "## Przykład zastosowania morfologii\n",
        "\n",
        "1. Wczytaj obraz calculator.bmp. Wyświetl go. Zadanie do realizacji: wyizolować tekst na klawiszach kalkulatora.\n",
        "2. W pierwszym kroku usunięte zostaną poziome odbicia znajdujące się na górnej krawędzi każdego z klawiszy. Wykorzystamy fakt, że odbicie jest dłuższe niż jakikolwiek pojedynczy znak. Wykonujemy otwarcie przez rekonstrukcję (można wykorzystać kod z wcześniejszego zadania, ale tym razem mamy do czynienia z obrazem w skali szarości zamiast z binarnym – proszę się zastanowić, jaka operacja jest odpowiednikiem operacji AND?):\n",
        "  - początkowo wykonujemy erozję z elementem strukturalnym w postaci poziomej linii — `np.ones((1,71))`,\n",
        "  - następnie dokonujemy rekonstrukcji: marker – obraz po erozji, maska – obraz oryginalny,\n",
        "  - wynik operacji wyświetl. Dla porównania wyświetl wynik klasycznego otwarcia z takim samym elementem strukturalnym. W czym otwarcie przez rekonstrukcję jest lepsze od klasycznego?\n",
        "3. W poprzednim kroku (tj. w wyniku otwarcia przez rekonstrukcję) uzyskaliśmy obraz tła. Należy go teraz odjąć od obrazu oryginalnego. Ten rodzaj operacji można nazwać top-hat poprzez rekonstrukcję. Wynik wyświetl. Dla porównania wyświetl wynik klasycznej operacji top-hat – różnicy miedzy obrazem oryginalnym a obrazem po klasycznym otwarciu.\n",
        "4. W podobny sposób należy zlikwidować odblaski pionowe:\n",
        "  - erozja z elementem strukturalnym w postaci poziomej linii – `np.ones((1,11))` – zostaną zachowane wszystkie znaki (bo prawie wszystkie są szersze). Uwaga. Operacje wykonujemy na uzyskanym w kroku 3 rezultacie odjęcia od obrazu oryginalnego, obrazu po rekonstrukcji.\n",
        "  - rekonstrukcja: marker – obraz po erozji, maska – obraz z punktu 3 (różnica oryginalnego i tła),\n",
        "  - wynik wyświetl.\n",
        "5. Rezultat jest niemal satysfakcjonujący, ale wystąpił problem z cienkimi pionowymi elementami napisów – np. I na klawiszu ASIN. Wykorzystując fakt, że usunięte znaki znajdują się w bezpośrednim sąsiedztwie istniejących znaków wykonujemy następujące operacje:\n",
        "  - dylatacja z elementem `np.ones((1,21))`,\n",
        "  - rekonstrukcja z markerem w postaci – minimum(obraz po dylatacji z punktu powyżej, obraz uzyskany w punkcie 3, tj. różnica oryginalnego i tła) oraz maską – obraz z pkt. 3.\n",
        "6. Rezultat wyświetl. Czy za pomocą zaproponowanych operacji udało się uzyskać zamierzony efekt – ekstrakcję napisów?\n"
      ]
    },
    {
      "cell_type": "code",
      "execution_count": null,
      "metadata": {
        "pycharm": {
          "name": "#%%\n"
        },
        "id": "rkrWUZBpbwvM"
      },
      "outputs": [],
      "source": [
        "def reconstruction(img, kernel, marker=None):\n",
        "  maska = img\n",
        "  kwadrat = np.ones((3, 3))\n",
        "\n",
        "  if marker is None:\n",
        "    marker = cv2.erode(img, kernel)\n",
        "\n",
        "  while True:\n",
        "    dilate = cv2.dilate(marker, kwadrat)\n",
        "    dilate = np.min((dilate, maska), axis=0)\n",
        "\n",
        "    if (marker == dilate).all():\n",
        "      return marker\n",
        "    marker = dilate"
      ]
    },
    {
      "cell_type": "code",
      "source": [
        "plt.imshow(I_calculator, 'gray')\n",
        "plt.axis('off')\n",
        "plt.show()\n",
        "\n",
        "structure = np.ones((1, 71))\n",
        "wynik = reconstruction(I_calculator, structure)\n",
        "\n",
        "plt.imshow(wynik, 'gray')\n",
        "plt.axis('off')\n",
        "plt.show()\n",
        "\n",
        "calculator_open = cv2.morphologyEx(I_calculator, cv2.MORPH_OPEN, structure)\n",
        "plt.imshow(calculator_open, 'gray')\n",
        "plt.axis('off')\n",
        "plt.show()"
      ],
      "metadata": {
        "id": "Kb1KyPK7mRfr"
      },
      "execution_count": null,
      "outputs": []
    },
    {
      "cell_type": "code",
      "source": [
        "roznica = I_calculator - wynik\n",
        "calculator_top = cv2.morphologyEx(I_calculator, cv2.MORPH_TOPHAT, structure)\n",
        "\n",
        "plt.imshow(roznica, 'gray')\n",
        "plt.axis('off')\n",
        "plt.show()\n",
        "\n",
        "plt.imshow(calculator_top, 'gray')\n",
        "plt.axis('off')\n",
        "plt.show()"
      ],
      "metadata": {
        "id": "Yvud-t_RpiO3"
      },
      "execution_count": null,
      "outputs": []
    },
    {
      "cell_type": "code",
      "source": [
        "odb = reconstruction(roznica, np.ones((1, 11)))\n",
        "\n",
        "plt.imshow(odb, 'gray')\n",
        "plt.axis('off')\n",
        "plt.show()"
      ],
      "metadata": {
        "id": "62U0ksMbyBPK"
      },
      "execution_count": null,
      "outputs": []
    },
    {
      "cell_type": "code",
      "source": [
        "dilate = cv2.dilate(odb, np.ones((1, 21)))\n",
        "marker = np.min((dilate, roznica), axis=0)\n",
        "final = reconstruction(roznica, np.ones((1, 21)), marker)\n",
        "\n",
        "plt.imshow(final, 'gray')\n",
        "plt.axis('off')\n",
        "plt.show()"
      ],
      "metadata": {
        "id": "l5TLQCoCybnk"
      },
      "execution_count": null,
      "outputs": []
    }
  ],
  "metadata": {
    "celltoolbar": "Raw Cell Format",
    "kernelspec": {
      "display_name": "Python 3",
      "language": "python",
      "name": "python3"
    },
    "language_info": {
      "codemirror_mode": {
        "name": "ipython",
        "version": 3
      },
      "file_extension": ".py",
      "mimetype": "text/x-python",
      "name": "python",
      "nbconvert_exporter": "python",
      "pygments_lexer": "ipython3",
      "version": "3.9.10"
    },
    "colab": {
      "provenance": []
    }
  },
  "nbformat": 4,
  "nbformat_minor": 0
}
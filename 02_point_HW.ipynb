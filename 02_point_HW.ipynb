{
  "cells": [
    {
      "cell_type": "markdown",
      "source": [
        "# Zadanie domowe\n",
        "\n",
        "W przypadku obrazów w odcieniach szarości pojedynczy piksel z zakresu [0; 255] reprezentowany jest jako 8-bitowa liczba bez znaku.\n",
        "Pewnym rozszerzeniem analizy sposobu reprezentacji obrazu może być następujący eksperyment.\n",
        "Załóżmy, że z każdego z 8 bitów możemy stworzyć pojedynczy obraz binarny (ang. _bit-plane slicing_).\n",
        "Dla obrazka _100zloty.jpg_ (https://raw.githubusercontent.com/vision-agh/poc_sw/master/02_Point/100zloty.jpg) stwórz 8 obrazów, z których każdy powinien zawierać jedną płaszczyznę bitową.\n",
        "Podpowiedź $-$ warto sprawdzić, jak realizuje się bitowe operacje logiczne.\n",
        "Zastosowanie takiej dekompozycji obrazu pozwala na analizę ,,ważności'' poszczególnych bitów.\n",
        "Jest to użyteczne w kwantyzacji, ale także w kompresji.\n",
        "\n",
        "W drugim etapie zadania proszę spróbować odtworzyć obraz oryginalny z mniejszej liczby obrazów binarnych.\n",
        "Warto zacząć od dwóch najbardziej znaczących bitów, a później dodawać kolejne.\n",
        "Należy utworzyć co najmniej trzy wersje zrekonstruowanych obrazów.\n",
        "Podpowiedź $-$ rekonstrukcja obrazu to mnożenie przez odpowiednią potęgę liczby 2 (przesunięcie bitowe) oraz dodawanie."
      ],
      "metadata": {
        "collapsed": false,
        "id": "lahupIjUA2LH"
      }
    },
    {
      "cell_type": "code",
      "source": [
        "import cv2\n",
        "import os\n",
        "import numpy as np\n",
        "import matplotlib.pyplot as plt\n",
        "\n",
        "\n",
        "if not os.path.exists(\"100zloty.jpg\"):\n",
        "  !wget https://raw.githubusercontent.com/vision-agh/poc_sw/master/02_Point/100zloty.jpg\n",
        "img = cv2.imread('100zloty.jpg')\n",
        "plt.imshow(img)\n",
        "plt.xticks([]), plt.yticks([])\n",
        "plt.title('Oryginalny obraz')\n",
        "plt.show()\n",
        "\n",
        "img = cv2.cvtColor(img, cv2.COLOR_BGR2GRAY)\n",
        "\n",
        "plt.figure()\n",
        "plt.imshow(img)\n",
        "plt.xticks([]), plt.yticks([])\n",
        "# plt.gray()\n",
        "plt.title('Szary obraz')\n",
        "plt.show()\n",
        "\n",
        "lst = []\n",
        "for i in range(img.shape[0]):\n",
        "  for j in range(img.shape[1]):\n",
        "    lst.append(np.binary_repr(int(img[i][j]), width=8))\n",
        "\n",
        "bit_imgs = []\n",
        "for i in range(8):\n",
        "  bit_imgs.append((np.array([int(j[i]) for j in lst],dtype = np.uint8) * 2 ** (7 - i)).reshape(img.shape[0],img.shape[1]))\n",
        "  plt.imshow(bit_imgs[i])\n",
        "  plt.xticks([]), plt.yticks([])\n",
        "  plt.title(\"Bit {}\".format(8-i))\n",
        "  plt.show()\n",
        "\n",
        "bit876 = cv2.add(cv2.add(bit_imgs[0], bit_imgs[1]), bit_imgs[2])\n",
        "plt.imshow(bit876)\n",
        "plt.xticks([]), plt.yticks([])\n",
        "plt.title('Bity 8, 7 i 6')\n",
        "plt.show()\n",
        "\n",
        "bit54 = cv2.add(bit_imgs[3], bit_imgs[4])\n",
        "plt.imshow(bit54)\n",
        "plt.xticks([]), plt.yticks([])\n",
        "plt.title('Bity 5 i 4')\n",
        "plt.show()\n",
        "\n",
        "bit642 = cv2.add(cv2.add(bit_imgs[2], bit_imgs[4]), bit_imgs[6])\n",
        "plt.imshow(bit642)\n",
        "plt.xticks([]), plt.yticks([])\n",
        "plt.title('Bity 6, 4 i 2')\n",
        "plt.show()"
      ],
      "metadata": {
        "id": "IxJ7tnP1BRRp"
      },
      "execution_count": null,
      "outputs": []
    }
  ],
  "metadata": {
    "kernelspec": {
      "display_name": "Python 3",
      "language": "python",
      "name": "python3"
    },
    "language_info": {
      "codemirror_mode": {
        "name": "ipython",
        "version": 2
      },
      "file_extension": ".py",
      "mimetype": "text/x-python",
      "name": "python",
      "nbconvert_exporter": "python",
      "pygments_lexer": "ipython2",
      "version": "2.7.6"
    },
    "colab": {
      "provenance": []
    }
  },
  "nbformat": 4,
  "nbformat_minor": 0
}
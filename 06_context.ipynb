{
  "cells": [
    {
      "cell_type": "markdown",
      "metadata": {
        "id": "BmoS07LlGYSq"
      },
      "source": [
        "# Przetwarzanie wstępne. Filtracja kontekstowa.\n",
        "\n",
        "\n",
        "### Cel:\n",
        "- zapoznanie z pojęciem kontekstu / filtracji kontekstowej,\n",
        "- zapoznanie z pojęciem konwolucji (splotu),\n",
        "- zapoznanie z wybranymi filtrami:\n",
        "\t- filtry liniowe dolnoprzepustowe:\n",
        "\t\t- filtr uśredniający,\n",
        "\t\t- filtr Gaussa.\n",
        "\t- filtry nielinowe:\n",
        "\t\t- mediana,\n",
        "\t\t- mediana dla obrazów kolorowych.\n",
        "\t- filtry liniowe górnoprzepustowe:\n",
        "\t\t\t- laplasjan,\n",
        "\t\t\t- operator Robertsa, Prewitta, Sobela.\n",
        "- zadanie domowe: adaptacyjna filtracja medianowa.\n",
        "\n",
        "### Filtry liniowe uśredniające (dolnoprzepustowe)\n",
        "\n",
        "Jest to podstawowa rodzina filtrów stosowana w cyfrowym przetwarzaniu obrazów. \n",
        "Wykorzystuje się je w celu \"rozmazania\" obrazu i tym samym redukcji szumów (zakłóceń) na obrazie.\n",
        "Filtr określony jest przez dwa parametry: rozmiar maski (ang. _kernel_) oraz wartości współczynników maski.\n",
        "\n",
        "Warto zwrócić uwagę, że omawiane w niniejszym rozdziale operacje generują nową wartość piksela na podstawie pewnego fragmentu obrazu (tj. kontekstu), a nie jak operacje punktowe tylko na podstawie jednego piksela.\n",
        "\n",
        "\n",
        "1. Wczytaj obraz _plansza.png_.\n",
        "W dalszej części ćwiczenia sprawdzenie działania filtracji dla innych obrazów sprowadzi się do wczytania innego pliku.\n",
        "\n",
        "2. Podstawowa funkcja to `cv2.filter2D`  - realizacja filtracji konwolucyjnej.\n",
        "   Proszę sprawdzić jej dokumentację i zwrócić uwagę na obsługę problemu brzegowego (na krawędziach istnieją piksele dla których nie da się wyznaczyć otoczenia).\n",
        "\n",
        "  Uwaga. Problem ten można też rozwiązać z użyciem funkcji `signal.convolve2d` z biblioteki _scipy_ (`from scipy import signal`).\n",
        "\n",
        "3. Stwórz podstawowy filtr uśredniający o rozmiarze $3 \\times 3$ -- za pomocą funkcji `np.ones`. Wykonaj konwolucję na wczytanym obrazie. Na wspólnym rysunku wyświetl obraz oryginalny, po filtracji oraz moduł z różnicy.\n",
        "\n",
        "4. Przeanalizuj otrzymane wyniki. Jakie elementy zawiera obraz \"moduł z różnicy\"? Co na tej podstawie można powiedzieć o filtracji dolnoprzepustowej?"
      ]
    },
    {
      "cell_type": "code",
      "execution_count": null,
      "metadata": {
        "id": "efSL3J6RGYSt"
      },
      "outputs": [],
      "source": [
        "import matplotlib.pyplot as plt\n",
        "import cv2\n",
        "import os\n",
        "import numpy as np\n",
        "from scipy import signal\n",
        "\n",
        "\n",
        "# Obrazki\n",
        "if not os.path.exists(\"jet.png\") :\n",
        "    !wget https://raw.githubusercontent.com/vision-agh/poc_sw/master/06_Context/jet.png --no-check-certificate\n",
        "if not os.path.exists(\"kw.png\") :\n",
        "    !wget https://raw.githubusercontent.com/vision-agh/poc_sw/master/06_Context/kw.png --no-check-certificate\n",
        "if not os.path.exists(\"moon.png\") :\n",
        "    !wget https://raw.githubusercontent.com/vision-agh/poc_sw/master/06_Context/moon.png --no-check-certificate\n",
        "if not os.path.exists(\"lenaSzum.png\") :\n",
        "    !wget https://raw.githubusercontent.com/vision-agh/poc_sw/master/06_Context/lenaSzum.png --no-check-certificate\n",
        "if not os.path.exists(\"lena.png\") :\n",
        "    !wget https://raw.githubusercontent.com/vision-agh/poc_sw/master/06_Context/lena.png --no-check-certificate\n",
        "if not os.path.exists(\"plansza.png\") :\n",
        "    !wget https://raw.githubusercontent.com/vision-agh/poc_sw/master/06_Context/plansza.png --no-check-certificate\n",
        "\n",
        "plansza = cv2.imread('plansza.png')\n",
        "plansza = cv2.cvtColor(plansza, cv2.COLOR_BGR2GRAY)\n",
        "\n",
        "kw = cv2.imread('kw.png')\n",
        "kw = cv2.cvtColor(kw, cv2.COLOR_BGR2GRAY)\n",
        "\n",
        "moon = cv2.imread('moon.png')\n",
        "moon = cv2.cvtColor(moon, cv2.COLOR_BGR2GRAY)\n",
        "\n",
        "lenaSzum = cv2.imread('lenaSzum.png')\n",
        "lenaSzum = cv2.cvtColor(lenaSzum, cv2.COLOR_BGR2GRAY)\n",
        "\n",
        "lena = cv2.imread('lena.png')\n",
        "lena = cv2.cvtColor(lena, cv2.COLOR_BGR2GRAY)\n",
        "\n",
        "jet = cv2.imread('jet.png')\n",
        "jet = cv2.cvtColor(jet, cv2.COLOR_BGR2GRAY)\n"
      ]
    },
    {
      "cell_type": "code",
      "source": [
        "def filtr_usr(img, kernel_size):\n",
        "  kernel1 = np.ones((kernel_size, kernel_size)) / (kernel_size**2)\n",
        "  dst = cv2.filter2D(img, -1, kernel1)\n",
        "  return dst\n",
        "\n",
        "def plotter(img1, img2, img3):\n",
        "  fig, ax = plt.subplots(1,3)\n",
        "  ax[0].set_title(\"Oryginalny\")\n",
        "  ax[0].imshow(img1, 'gray')\n",
        "  ax[0].axis('off')\n",
        "  ax[1].set_title(\"Po filtracji\")\n",
        "  ax[1].imshow(img2, 'gray')\n",
        "  ax[1].axis('off')\n",
        "  ax[2].set_title(\"Moduł\")\n",
        "  ax[2].imshow(img3, 'gray')\n",
        "  ax[2].axis('off')\n",
        "  plt.show()"
      ],
      "metadata": {
        "id": "0zaydfJZqY3k"
      },
      "execution_count": null,
      "outputs": []
    },
    {
      "cell_type": "code",
      "source": [
        "kernel_1 =np.ones((3,3))/(3*3)\n",
        "dst = signal.convolve2d(plansza, kernel_1, mode='same')\n",
        "mod = np.abs(plansza - dst)\n",
        "\n",
        "plotter(plansza, dst, mod)"
      ],
      "metadata": {
        "id": "5kaU9z7Zaog1"
      },
      "execution_count": null,
      "outputs": []
    },
    {
      "cell_type": "markdown",
      "metadata": {
        "id": "P6t1YUFzGYSu"
      },
      "source": [
        "5. Na wspólnym rysunku wyświetl wyniki filtracji uśredniającej z oknem o rozmiarze 3, 5, 9, 15 i 35. \n",
        "Wykorzystaj polecenie `plt.subplot`. \n",
        "Przeanalizuj wpływ rozmiaru maski na wynik. "
      ]
    },
    {
      "cell_type": "code",
      "execution_count": null,
      "metadata": {
        "id": "ZUxj3ThbGYSu"
      },
      "outputs": [],
      "source": [
        "img3 = filtr_usr(plansza, 3)\n",
        "img5 = filtr_usr(plansza, 5)\n",
        "img9 = filtr_usr(plansza, 9)\n",
        "img15 = filtr_usr(plansza, 15)\n",
        "img35 = filtr_usr(plansza, 35)\n",
        "\n",
        "fig, ax = plt.subplots(1,5)\n",
        "ax[0].set_title(\"3\")\n",
        "ax[0].imshow(img3, 'gray')\n",
        "ax[0].axis('off')\n",
        "ax[1].set_title(\"5\")\n",
        "ax[1].imshow(img5, 'gray')\n",
        "ax[1].axis('off')\n",
        "ax[2].set_title(\"9\")\n",
        "ax[2].imshow(img9, 'gray')\n",
        "ax[2].axis('off')\n",
        "ax[3].set_title(\"15\")\n",
        "ax[3].imshow(img15, 'gray')\n",
        "ax[3].axis('off')\n",
        "ax[4].set_title(\"35\")\n",
        "ax[4].imshow(img35, 'gray')\n",
        "ax[4].axis('off')\n",
        "plt.show()"
      ]
    },
    {
      "cell_type": "markdown",
      "metadata": {
        "id": "3sgnJ7gMGYSu"
      },
      "source": [
        "6. Wczytaj obraz _lena.png_.\n",
        "Zaobserwuj efekty filtracji dolnoprzepustowej dla obrazu rzeczywistego."
      ]
    },
    {
      "cell_type": "code",
      "execution_count": null,
      "metadata": {
        "id": "0YW9BpXsGYSv"
      },
      "outputs": [],
      "source": [
        "lena_filtr = filtr_usr(lena, 3)\n",
        "lena_mod = np.abs(lena - lena_filtr)\n",
        "\n",
        "plotter(lena, lena_filtr, lena_mod)"
      ]
    },
    {
      "cell_type": "markdown",
      "metadata": {
        "id": "qgMlOH-SGYSv"
      },
      "source": [
        "7. Niekorzystny efekt towarzyszący wykonanym filtracjom dolnoprzepustowym to utrata ostrości. \n",
        "Częściowo można go zniwelować poprzez odpowiedni dobór maski. \n",
        "Wykorzystaj maskę:  `M = np.array([1 2 1; 2 4 2; 1 2 1])`. \n",
        "Przed obliczeniami należy jeszcze wykonać normalizację - podzielić każdy element maski przez sumę wszystkich elementów: `M = M/sum(sum(M));`.\n",
        "Tak przygotowaną maskę wykorzystaj w konwolucji - wyświetl wyniki tak jak wcześniej.\n",
        "Możliwe jest też wykorzystywanie innych masek - współczynniki można dopasowywać do konkretnego problemu."
      ]
    },
    {
      "cell_type": "code",
      "execution_count": null,
      "metadata": {
        "id": "bjWF-jneGYSv"
      },
      "outputs": [],
      "source": [
        "M = np.array([[1, 2, 1], [2, 4, 2], [1, 2, 1]])\n",
        "M = M/sum(sum(M))\n",
        "\n",
        "dst = signal.convolve2d(lena, M, mode='same')\n",
        "mod = np.abs(lena - dst)\n",
        "\n",
        "plotter(lena, dst, mod)"
      ]
    },
    {
      "cell_type": "markdown",
      "metadata": {
        "id": "rsvmYtLNGYSv"
      },
      "source": [
        "8. Skuteczną i często wykorzystywaną maską jest tzw. maska Gasussa.\n",
        "Jest to zbiór liczb, które aproksymują dwuwymiarowy rozkład Gaussa. \n",
        "Parametrem jest odchylenie standardowe i rozmiar maski.\n",
        "\n",
        "9. Wykorzystując przygotowaną funkcję `fgaussian` stwórz maskę o rozmiarze $5 \\times 5$ i odchyleniu standardowym 0.5.\n",
        "  Wykorzystując funkcję `mesh` zwizualizuj filtr.\n",
        "  Sprawdź jak parametr `odchylenie standardowe` wpływa na `kształt` filtru.\n",
        "\n",
        "  Uwaga. W OpenCV dostępna jest *dedykowana* funkcja do filtracji Gaussa - `GaussianBlur`.\n",
        "  Proszę na jednym przykładzie porównać jej działanie z użytym wyżej rozwiązaniem.\n",
        "\n",
        "10. Wykonaj filtrację dla wybranych (2--3) wartości odchylenia standardowego.\n"
      ]
    },
    {
      "cell_type": "code",
      "execution_count": null,
      "metadata": {
        "scrolled": true,
        "id": "rGKdlXqrGYSv"
      },
      "outputs": [],
      "source": [
        "def fgaussian(size, sigma):\n",
        "     m = n = size\n",
        "     h, k = m//2, n//2\n",
        "     x, y = np.mgrid[-h:h+1, -k:k+1]\n",
        "     g = np.exp(-(x**2 + y**2)/(2*sigma**2))\n",
        "     return g /g.sum() \n",
        "    \n",
        "    \n",
        "def mesh(fun, size):\n",
        "    fig = plt.figure()\n",
        "    # ax = fig.gca(projection='3d') # zmieniłem bo z jakiegoś powodu nie działało\n",
        "    ax = fig.add_subplot(projection='3d')\n",
        "    \n",
        "\n",
        "    X = np.arange(-size//2, size//2, 1)\n",
        "    Y = np.arange(-size//2, size//2, 1)\n",
        "    X, Y = np.meshgrid(X, Y)\n",
        "    Z = fun\n",
        "    \n",
        "    ax.plot_surface(X, Y, Z)\n",
        "    \n",
        "    plt.show()\n",
        "    \n",
        "\n"
      ]
    },
    {
      "cell_type": "code",
      "source": [
        "mask = fgaussian(5, 0.5)\n",
        "mask1 = fgaussian(5, 1)\n",
        "mesh(mask, 5)\n",
        "mesh(mask1, 5)"
      ],
      "metadata": {
        "id": "gWpS6XMjfmez"
      },
      "execution_count": null,
      "outputs": []
    },
    {
      "cell_type": "code",
      "source": [
        "gauss_lena1 = cv2.GaussianBlur(lena, (3, 3), 0.5)\n",
        "mod1 = np.abs(lena - gauss_lena1)\n",
        "plotter(lena, gauss_lena1, mod1)\n",
        "\n",
        "gauss_lena2 = cv2.GaussianBlur(lena, (3, 3), 1)\n",
        "mod2 = np.abs(lena - gauss_lena2)\n",
        "plotter(lena, gauss_lena2, mod2)"
      ],
      "metadata": {
        "id": "QSyVq6YKjYs7"
      },
      "execution_count": null,
      "outputs": []
    },
    {
      "cell_type": "markdown",
      "metadata": {
        "id": "Kv5UQEZ9GYSw"
      },
      "source": [
        "### Filtry nieliniowe -- mediana\n",
        "\n",
        "Filtry rozmywające redukują szum, ale niekorzystnie wpływają na ostrość obrazu.\n",
        "Dlatego często wykorzystuje się filtry nieliniowe - np. filtr medianowy (dla przypomnienia: mediana - środkowa wartość w posortowanym ciągu liczb).\n",
        "\n",
        "Podstawowa różnica pomiędzy filtrami liniowymi, a nieliniowymi polega na tym, że przy filtracji liniowej na nową wartość piksela ma wpływ wartość wszystkich pikseli z otoczenia (np. uśrednianie, czasem ważone), natomiast w przypadku filtracji nieliniowej jako nowy piksel wybierana jest któraś z wartości otoczenia - według jakiegoś wskaźnika (wartość największa, najmniejsza czy właśnie mediana).\n",
        "\n",
        "\n",
        "1. Wczytaj obraz _lenaSzum.png_ (losowe 10% pikseli białych lub czarnych - tzw. zakłócenia impulsowe). Przeprowadź filtrację uśredniającą z rozmiarem maski 3x3. Wyświetl, podobnie jak wcześniej, oryginał, wynik filtracji i moduł z różnicy. Wykorzystując funkcję `cv2.medianBlur` wykonaj filtrację medianową _lenaSzum.png_ (z rozmiarem maski $3 \\times 3$). Wyświetl, podobnie jak wcześniej, oryginał, wynik filtracji i moduł z różnicy. Która filtracja lepiej radzi sobie z tego typu szumem?\n",
        "\n",
        "  Uwaga. Taki sam efekt da również użycie funkcji `signal.medfilt2d`.\n"
      ]
    },
    {
      "cell_type": "code",
      "execution_count": null,
      "metadata": {
        "id": "6Fi-8RsLGYSw"
      },
      "outputs": [],
      "source": [
        "szum_gauss = cv2.GaussianBlur(lenaSzum, (3, 3), 0.5)\n",
        "mod1 = np.abs(lenaSzum - szum_gauss)\n",
        "plotter(lenaSzum, szum_gauss, mod1)\n",
        "\n",
        "szum_median = cv2.medianBlur(lenaSzum, 3)\n",
        "mod2 = np.abs(lenaSzum - szum_median)\n",
        "plotter(lenaSzum, szum_median, mod2)"
      ]
    },
    {
      "cell_type": "markdown",
      "metadata": {
        "id": "IjOuc2CCGYSw"
      },
      "source": [
        "2. Przeprowadź filtrację uśredniającą, a następnie medianową obrazu _lena.png_.\n",
        "   Wyniki porównaj - dla obu wyświetl: oryginał, wynik filtracji i moduł z różnicy.\n",
        "   Szczególną uwagę zwróć na ostrość i krawędzie.\n",
        "   W której filtracji krawędzie zostają lepiej zachowane?"
      ]
    },
    {
      "cell_type": "code",
      "execution_count": null,
      "metadata": {
        "id": "umKlieXfGYSw"
      },
      "outputs": [],
      "source": [
        "gauss = cv2.GaussianBlur(lena, (3, 3), 0.5)\n",
        "mod1 = np.abs(lena - gauss)\n",
        "plotter(lena, gauss, mod1)\n",
        "\n",
        "median = cv2.medianBlur(lena, 3)\n",
        "mod2 = np.abs(lena - median)\n",
        "plotter(lena, median, mod2)"
      ]
    },
    {
      "cell_type": "markdown",
      "source": [
        "Po różnicy wygląda, że pierwszy sposób jest ostrzejszy i więcej na nim widać, jednak po oryginale i przefiltrowanym obrazie nie widać znaczącej różnicy między tymi sposobami filtracji."
      ],
      "metadata": {
        "id": "_6RBKskVnQ7J"
      }
    },
    {
      "cell_type": "markdown",
      "metadata": {
        "id": "jQaUJmy7GYSw"
      },
      "source": [
        "3. Ciekawy efekt można uzyskać wykonując filtrację medianową wielokrotnie. Określa się go mianem  posteryzacji.  W wyniku przetwarzania z obrazka usunięte zostają detale, a duże obszary uzyskują tą samą wartość jasności.  Wykonaj operację mediany $5 \\times 5$ na obrazie _lena.png_ 10-krotnie. (wykorzystaj np. pętlę `for`).\n",
        "\n",
        "\n",
        "Inne filtry nieliniowe:\n",
        "- filtr modowy - moda (dominanta) zamiast mediany,\n",
        "- filtr olimpijski - średnia z podzbioru otoczenia (bez wartości ekstremalnych),\n",
        "- hybrydowy filtr medianowy - mediana obliczana osobno w różnych podzbiorach otoczenia (np. kształt `x`, `+`), a jako wynik brana jest mediana ze zbioru wartość elementu centralnego, mediana z `x` i mediana z `+`,\n",
        "- filtr minimalny i maksymalny (będą omówione przy okazji operacji morfologicznych w dalszej części kursu).\n",
        "\n",
        "\n",
        "Warto zdawać sobie sprawę, z szerokich możliwości dopasowywania rodzaju filtracji do konkretnego rozważanego problemu i rodzaju zaszumienia występującego na obrazie."
      ]
    },
    {
      "cell_type": "code",
      "execution_count": null,
      "metadata": {
        "id": "I42dNK7fGYSw"
      },
      "outputs": [],
      "source": [
        "lenax = lena\n",
        "for _ in range(10):\n",
        "  lenax = cv2.medianBlur(lenax, 5)\n",
        "mod = np.abs(lena - lenax)\n",
        "plotter(lena, lenax, mod)"
      ]
    },
    {
      "cell_type": "markdown",
      "metadata": {
        "id": "im8XEQYVGYSw"
      },
      "source": [
        "## Filtry liniowe górnoprzepustowe (wyostrzające, wykrywające krawędzie)\n",
        "\n",
        "Zadaniem filtrów górnoprzepustowych jest wydobywanie z obrazu składników odpowiedzialnych za szybkie zmiany jasności - konturów, krawędzi, drobnych elementów tekstury.\n",
        "\n",
        "### Laplasjan (wykorzystanie drugiej pochodnej obrazu)\n",
        "\n",
        "1. Wczytaj obraz _moon.png_.\n",
        "\n",
        "2. Wprowadź podstawową maskę laplasjanu:\n",
        "\\begin{equation}\n",
        "M = \n",
        "\\begin{bmatrix}\n",
        "0 & 1& 0 \\\\ 1 & -4 & 1 \\\\ 0 & 1 & 0\n",
        "\\end{bmatrix}\n",
        "\\tag{1}\n",
        "\\end{equation}\n",
        "\n",
        "3. Przed rozpoczęciem obliczeń należy dokonać normalizacji maski - dla rozmiaru $3 \\times 3$ podzielić każdy element przez sumę wag dodatnich (ewentualnie sumę modułów wszystkich wag).\n",
        "   Proszę zwrócić uwagę, że nie można tu zastosować takiej samej normalizacji, jak dla filtrów dolnoprzepustowych, gdyż skutkowałby to dzieleniem przez 0.\n",
        "\n",
        "4. Wykonaj konwolucję obrazu z maską (`c2.filter2D`). Przed wyświetleniem, wynikowy obraz należy poddać normalizacji (występują ujemne wartości). Najczęściej wykonuje się jedną z dwóch operacji:\n",
        "- skalowanie (np. poprzez dodanie 128 do każdego z pikseli),\n",
        "- moduł (wartość bezwzględna).\n",
        "\n",
        "Wykonaj obie normalizacje. \n",
        "Na wspólnym wykresie wyświetl obraz oryginalny oraz przefiltrowany po obu normalizacjach. "
      ]
    },
    {
      "cell_type": "code",
      "execution_count": null,
      "metadata": {
        "id": "hd345v_mGYSx"
      },
      "outputs": [],
      "source": [
        "M = np.array([[0, 1, 0], [1, -4, 1], [0, 1, 0]]) / 9\n",
        "\n",
        "lap_moon = cv2.filter2D(moon, -1, M)\n",
        "scal_moon = lap_moon + 128\n",
        "mod_moon = np.abs(lap_moon)\n",
        "\n",
        "fig, ax = plt.subplots(1,3)\n",
        "ax[0].set_title(\"Oryginalny\")\n",
        "ax[0].imshow(moon, 'gray')\n",
        "ax[0].axis('off')\n",
        "ax[1].set_title(\"+128\")\n",
        "ax[1].imshow(scal_moon, 'gray')\n",
        "ax[1].axis('off')\n",
        "ax[2].set_title(\"Moduł\")\n",
        "ax[2].imshow(mod_moon, 'gray')\n",
        "ax[2].axis('off')\n",
        "plt.show()"
      ]
    },
    {
      "cell_type": "markdown",
      "metadata": {
        "id": "Mwupibh6GYSx"
      },
      "source": [
        "7. Efekt wyostrzenia uzyskuje się po odjęciu/dodaniu (zależy do maski) rezultatu filtracji laplasjanowej i oryginalnego obrazu. Wyświetl na jednym wykresie: obraz oryginalny, sumę oryginału i wyniku filtracji oraz różnicę (bezwzględną) oryginału i wyniku filtracji.\n",
        " Uwaga. Aby uniknąć artefaktów, należy obraz wejściowy przekonwertować do formatu ze znakiem.\n",
        "\n"
      ]
    },
    {
      "cell_type": "code",
      "execution_count": null,
      "metadata": {
        "id": "gmTSncIYGYSx"
      },
      "outputs": [],
      "source": [
        "sign_moon = moon.astype('int16')\n",
        "\n",
        "fig, ax = plt.subplots(1,3)\n",
        "ax[0].set_title(\"Oryginalny\")\n",
        "ax[0].imshow(moon, 'gray')\n",
        "ax[0].axis('off')\n",
        "ax[1].set_title(\"Dodanie\")\n",
        "ax[1].imshow(sign_moon + lap_moon, 'gray')\n",
        "ax[1].axis('off')\n",
        "ax[2].set_title(\"Odjęcie\")\n",
        "ax[2].imshow(np.abs(sign_moon - lap_moon), 'gray')\n",
        "ax[2].axis('off')\n",
        "plt.show()"
      ]
    },
    {
      "cell_type": "markdown",
      "metadata": {
        "id": "-vjZ_hSiGYSx"
      },
      "source": [
        "### Gradienty (wykorzystanie pierwszej pochodnej obrazu)\n",
        "\n",
        "1. Wczytaj obraz _kw.png_. Stwórz odpowiednie maski opisane w kolejnych punktach i dokonaj filtracji.\n",
        "2. Wykorzystując gradient Robertsa przeprowadź detekcję krawędzi - poprzez wykonanie konwolucji obrazu z daną maską:\n",
        "\\begin{equation}\n",
        "R1 = \\begin{bmatrix} 0 & 0 & 0 \\\\ -1 & 0 & 0 \\\\ 0 & 1 & 0 \\end{bmatrix}   \n",
        "R2 = \\begin{bmatrix} 0 & 0 & 0 \\\\ 0 & 0 & -1 \\\\ 0 & 1 & 0 \\end{bmatrix}\n",
        "\\tag{2}\n",
        "\\end{equation}\n",
        "\n",
        "Wykorzystaj stworzony wcześniej kod (przy laplasjanie) - dwie metody normalizacji oraz sposób wyświetlania.\n",
        "\n",
        "3. Analogicznie przeprowadź detekcję krawędzi za pomocą gradientu Prewitta (pionowy i poziomy)\n",
        "\\begin{equation}\n",
        "P1 = \\begin{bmatrix} -1 & 0 & 1 \\\\ -1 & 0 & 1 \\\\ -1 & 0 & 1 \\end{bmatrix}   \n",
        "P2 = \\begin{bmatrix} -1 & -1 & -1 \\\\ 0 & 0 & 0 \\\\ 1 & 1 & 1 \\end{bmatrix}\n",
        "\\tag{3}\n",
        "\\end{equation}\n",
        "\n",
        "4. Podobnie skonstruowany jest gradient Sobela (występuje osiem masek, zaprezentowane są dwie `prostopadłe`):\n",
        "\\begin{equation}\n",
        "S1 = \\begin{bmatrix} -1 & 0 & 1 \\\\ -2 & 0 & 2 \\\\ -1 & 0 & 1 \\end{bmatrix}   \n",
        "S2 = \\begin{bmatrix} -1 & -2 & -1 \\\\ 0 & 0 & 0 \\\\ 1 & 2 & 1 \\end{bmatrix}\n",
        "\\tag{4}\n",
        "\\end{equation}\n",
        "\n",
        "Przeprowadź detekcję krawędzi za pomocą gradientu Sobela. "
      ]
    },
    {
      "cell_type": "code",
      "execution_count": null,
      "metadata": {
        "scrolled": true,
        "id": "eqKObw90GYSx"
      },
      "outputs": [],
      "source": [
        "def norm(img, mask):\n",
        "  fltr = cv2.filter2D(img, -1, mask)\n",
        "  scal = fltr + 128\n",
        "  mod = np.abs(fltr)\n",
        "\n",
        "  fig, ax = plt.subplots(1,3)\n",
        "  ax[0].set_title(\"Oryginalny\")\n",
        "  ax[0].imshow(img, 'gray')\n",
        "  ax[0].axis('off')\n",
        "  ax[1].set_title(\"+128\")\n",
        "  ax[1].imshow(scal, 'gray')\n",
        "  ax[1].axis('off')\n",
        "  ax[2].set_title(\"Moduł\")\n",
        "  ax[2].imshow(mod, 'gray')\n",
        "  ax[2].axis('off')\n",
        "  plt.show()"
      ]
    },
    {
      "cell_type": "code",
      "source": [
        "R1 = np.array([[0, 0, 0], [-1, 0, 0], [0, 1, 0]]) / 9\n",
        "R2 = np.array([[0, 0, 0], [0, 0, -1], [0, 1, 0]]) / 9\n",
        "P1 = np.array([[-1, 0, 1], [-1, 0, 1], [-1, 0, 1]]) / 9\n",
        "P2 = np.array([[-1, -1, -1], [0, 0, 0], [1, 1, 1]]) / 9\n",
        "S1 = np.array([[-1, 0, 1], [-2, 0, 2], [-1, 0, 1]]) / 9\n",
        "S2 = np.array([[-1, -2, -1], [0, 0, 0], [1, 2, 1]]) / 9\n",
        "\n",
        "norm(kw,R1)\n",
        "norm(kw,R2)\n",
        "norm(kw,P1)\n",
        "norm(kw,P2)\n",
        "norm(kw,S1)\n",
        "norm(kw,S2)"
      ],
      "metadata": {
        "id": "kcbL19GNxbLS"
      },
      "execution_count": null,
      "outputs": []
    },
    {
      "cell_type": "markdown",
      "metadata": {
        "id": "c1Qx3Z9SGYSx"
      },
      "source": [
        "5. Na podstawie dwóch ortogonalnych masek np. Sobela można stworzyć tzw. filtr kombinowany - pierwiastek kwadratowy z sumy kwadratów gradientów:\n",
        "\\begin{equation}\n",
        "OW = \\sqrt{(O * S1)^2 + (O * S2)^2}\n",
        "\\tag{5}\n",
        "\\end{equation}\n",
        "gdzie:  $OW$ - obraz wyjściowy, $O$ - obraz oryginalny (wejściowy), $S1,S2$ - maski Sobela, $*$ - operacja konwolucji.\n",
        "\n",
        "Zaimplementuj filtr kombinowany.\n",
        "\n",
        "Uwaga. Proszę zwrócić uwagę na konieczność zmiany formatu danych obrazu wejściowego - na typ znakiem\n",
        "\n"
      ]
    },
    {
      "cell_type": "code",
      "execution_count": null,
      "metadata": {
        "id": "6qT_PHuMGYSx"
      },
      "outputs": [],
      "source": [
        "kw_sign = kw.astype('int16')\n",
        "OS1 = cv2.filter2D(kw_sign, -1, S1)\n",
        "OS2 = cv2.filter2D(kw_sign, -1, S2)\n",
        "OW = np.sqrt(OS1**2 + OS2**2)"
      ]
    },
    {
      "cell_type": "markdown",
      "metadata": {
        "id": "D4WLGJD8GYSx"
      },
      "source": [
        "6. Istnieje alternatywna wersja filtra kombinowanego, która zamiast pierwiastka z sumy kwadratów wykorzystuje sumę modułów (prostsze obliczenia). \n",
        "Zaimplementuj tę wersję. "
      ]
    },
    {
      "cell_type": "code",
      "execution_count": null,
      "metadata": {
        "scrolled": true,
        "id": "nAVAdcsvGYSy"
      },
      "outputs": [],
      "source": [
        "OS1 = cv2.filter2D(kw_sign, -1, S1)\n",
        "OS2 = cv2.filter2D(kw_sign, -1, S2)\n",
        "OW = np.abs(OS1) + np.abs(OS2)"
      ]
    },
    {
      "cell_type": "markdown",
      "metadata": {
        "id": "85lObkxSGYSy"
      },
      "source": [
        "7. Wczytaj plik _jet.png_ (zamiast _kw.png_).\n",
        "Sprawdź działanie obu wariantów filtracji kombinowanej."
      ]
    },
    {
      "cell_type": "code",
      "execution_count": null,
      "metadata": {
        "pycharm": {
          "name": "#%%\n"
        },
        "id": "U9hxbMapGYSy"
      },
      "outputs": [],
      "source": [
        "jet_sign = jet.astype('int16')\n",
        "OS1 = cv2.filter2D(jet_sign, -1, S1)\n",
        "OS2 = cv2.filter2D(jet_sign, -1, S2)\n",
        "\n",
        "OW1 = np.sqrt(OS1**2 + OS2**2)\n",
        "OW2 = np.abs(OS1) + np.abs(OS2)\n",
        "\n",
        "fig, ax = plt.subplots(1,3)\n",
        "ax[0].set_title(\"Oryginalny\")\n",
        "ax[0].imshow(jet_sign, 'gray')\n",
        "ax[0].axis('off')\n",
        "ax[1].set_title(\"Filtr pierwszy sposób\")\n",
        "ax[1].imshow(OW1, 'gray')\n",
        "ax[1].axis('off')\n",
        "ax[2].set_title(\"Filtr drugi sposób\")\n",
        "ax[2].imshow(OW2, 'gray')\n",
        "ax[2].axis('off')\n",
        "plt.show()"
      ]
    }
  ],
  "metadata": {
    "celltoolbar": "Raw Cell Format",
    "kernelspec": {
      "display_name": "Python 3",
      "language": "python",
      "name": "python3"
    },
    "language_info": {
      "codemirror_mode": {
        "name": "ipython",
        "version": 3
      },
      "file_extension": ".py",
      "mimetype": "text/x-python",
      "name": "python",
      "nbconvert_exporter": "python",
      "pygments_lexer": "ipython3",
      "version": "3.7.6"
    },
    "colab": {
      "provenance": []
    }
  },
  "nbformat": 4,
  "nbformat_minor": 0
}
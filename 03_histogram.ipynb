{
  "cells": [
    {
      "cell_type": "markdown",
      "metadata": {
        "pycharm": {
          "name": "#%% md\n"
        },
        "id": "twt4_B4N4Ysu"
      },
      "source": [
        "# Histogram obrazu. Wyrównywanie histogramu."
      ]
    },
    {
      "cell_type": "markdown",
      "source": [
        "## Cel ćwiczenia\n",
        "\n",
        "- Zapoznanie z pojęciem histogramu obrazu (w odcieniach szarości i kolorze).\n",
        "- Zapoznanie z metodami modyfikacji histogramu (rozciąganie, wyrównywanie, dopasowywanie)."
      ],
      "metadata": {
        "collapsed": false,
        "pycharm": {
          "name": "#%% md\n"
        },
        "id": "mCa7X7a64Ysy"
      }
    },
    {
      "cell_type": "markdown",
      "source": [
        "## Histogram\n",
        "\n",
        "- Histogramem obrazu nazywamy wykres słupkowy zdefiniowany następującymi zależnościami:<br>\n",
        "\\begin{equation}\n",
        "h(i) = \\sum_{x=0}^{N-1} \\sum_{y=0}^{M-1} p(i,(x,y))\n",
        "\\end{equation}<br>\n",
        "gdzie:<br>\n",
        "\\begin{equation}\n",
        "p(i) =  \\left\\{\n",
        "  \\begin{array}{l l}\n",
        "    1 & \\quad \\text{gdy} f(x,y) = i\\\\\n",
        "    0 & \\quad \\text{gdy} f(x,y) \\ne i\n",
        "  \\end{array} \\right.\n",
        "\\end{equation}\n",
        "\n",
        "- Inaczej mówiąc, histogram zawiera informacje na temat tego ile pikseli o danym poziomie jasności występuje na obrazie (w przypadku obrazu w odcieniach szarości). Określa się to także rozkładem empirycznym cechy.\n",
        "\n",
        "- Często wykorzystuje się tzw. znormalizowaną postać histogramu  – wszystkie wartości $h(i)$ są dzielone przez liczbę pikseli na obrazie.\n",
        "Otrzymana w ten sposób wielkość to gęstość prawdopodobieństwa wystąpienia na obrazie pikseli o odcieniu $i$.\n",
        "\n",
        "- Histogram można zdefiniować również dla obrazów kolorowych.\n",
        "Otrzymujemy wtedy 3 histogramy – po jednym dla danej składowej: R,G,B (lub HSV, YCbCr, itp.) lub histogram trójwymiarowy.\n",
        "\n",
        "- Histogram jest bardzo użyteczny w przetwarzaniu i analizie obrazów.\n",
        "Wykorzystywany jest przy binaryzacji (szerzej na jednym z kolejnych laboratoriów) oraz do oceny jakości (dynamiki, kontrastu) obrazu.\n",
        "W idealnym przypadku wszystkie poziomy jasności w obrazie powinny być wykorzystane (i to najlepiej w miarę jednolicie)  – obrazowo mówiąc histogram powinien rozciągać się od 0  – 255 (obraz w skali szarości).\n",
        "\n",
        "- W przypadku gdy  wykorzystujemy jedynie fragment dostępnego zakresu (wąski histogram)  lub histogram nie jest jednolity (występują dominujące grupy pikseli) obraz ma dość słaby kontrast.\n",
        "Cechę tę można poprawić stosując tzw. rozciąganie albo wyrównywanie histogramu (ang. *histogram equalization*).</div>"
      ],
      "metadata": {
        "collapsed": false,
        "pycharm": {
          "name": "#%% md\n"
        },
        "id": "TcKA8Y374Ys0"
      }
    },
    {
      "cell_type": "markdown",
      "source": [
        "## Histogram dla obrazów w odcieniach szarości\n",
        "\n",
        "1. Zaimportuj potrzebne biblioteki: *OpenCV*, *pyplot* z *matplotlib* i *numpy*.\n",
        "        import cv2\n",
        "        from matplotlib import pyplot as plt\n",
        "        import numpy as np\n",
        "2. Wczytaj obrazy *lenaX.bmp* w skali szarości. *X* jest numerem wczytywanego obrazu (1 - 4).\n",
        "        I = cv2.imread('lenaX.bmp', cv2.IMREAD_GRAYSCALE)\n",
        "3. Oblicz histogram wczytanego obrazu wykorzystując funkcję `cv2.calcHist`.\n",
        "    - Pierwszym argumentem jest obraz, dla którego obliczony zostanie histogram.\n",
        "    Należy go przekazać w nawiasie kwadratowym.\n",
        "    - Drugim argumentem jest numer kanału, dla którego ma zostać obliczony histogram.\n",
        "    Również powinien być przekazany w nawiasie kwadratowym.\n",
        "    - Trzeci argument oznacza maskę, czyli obszar, dla którego ma zostać wyznaczony histogram.\n",
        "    Aby obliczyć dla całego obrazu należy przekazać *None*.\n",
        "    - Czwartym argumentem jest rozmiar histogramu (liczba przedziałów).\n",
        "    Argument powinien być w nawiasie kwadratowym. Dla pełnej skali należy przekazać wartość *256*.\n",
        "    - Ostatnim argumentem jest zakres wartości. Dla obrazów typu *uint8* powinien on wynosić *[0, 256]*.\n",
        "    - Funkcja zwraca obliczony histogram.\n",
        "4. Wyświetl wczytane obrazy i ich histogramy w jednym oknie. Użyj `plt.subplot()` w celu stworzenia siatki wykresów.\n",
        "        figLena, axsLena = plt.subplots(2, 4)\n",
        "Rozmiar utworzonego okna można zmienić wykorzystując instrukcję (uwaga w calach -  1 cal to 2.54cm):\n",
        "        figLena.set_size_inches(20, 10)\n",
        "Przykładowe wyświetlenie obrazu:\n",
        "        axsLena[0, 0].imshow(I1, 'gray', vmin=0, vmax=256)\n",
        "        axsLena[0, 0].axis('off')\n",
        "Przykładowe wyświetlenie histogramu:\n",
        "        axsLena[1, 0].plot(H1)\n",
        "        axsLena[1, 0].grid()\n",
        "5. Przeanalizuj (dokładnie) związek histogramu z jasnością i ostrością obrazu (tu rozumianą jako subiektywne odczucie)."
      ],
      "metadata": {
        "collapsed": false,
        "pycharm": {
          "name": "#%% md\n"
        },
        "id": "mNbmmtS34Ys1"
      }
    },
    {
      "cell_type": "code",
      "execution_count": null,
      "metadata": {
        "pycharm": {
          "name": "#%% Zadanie 1 - wyświetlanie\n"
        },
        "id": "bpvlwX5x4Ys3"
      },
      "outputs": [],
      "source": [
        "import cv2\n",
        "import os\n",
        "from matplotlib import pyplot as plt\n",
        "import numpy as np\n",
        "\n",
        "if not os.path.exists(\"lena1.bmp\") :\n",
        "    !wget https://raw.githubusercontent.com/vision-agh/poc_sw/master/03_Histogram/lena1.bmp --no-check-certificate\n",
        "\n",
        "if not os.path.exists(\"lena2.bmp\") :\n",
        "    !wget https://raw.githubusercontent.com/vision-agh/poc_sw/master/03_Histogram/lena2.bmp --no-check-certificate\n",
        "\n",
        "if not os.path.exists(\"lena3.bmp\") :\n",
        "    !wget https://raw.githubusercontent.com/vision-agh/poc_sw/master/03_Histogram/lena3.bmp --no-check-certificate\n",
        "\n",
        "if not os.path.exists(\"lena4.bmp\") :\n",
        "    !wget https://raw.githubusercontent.com/vision-agh/poc_sw/master/03_Histogram/lena4.bmp --no-check-certificate\n",
        "\n",
        "lena1 = cv2.imread('lena1.bmp', cv2.IMREAD_GRAYSCALE)\n",
        "lena2 = cv2.imread('lena2.bmp', cv2.IMREAD_GRAYSCALE)\n",
        "lena3 = cv2.imread('lena3.bmp', cv2.IMREAD_GRAYSCALE)\n",
        "lena4 = cv2.imread('lena4.bmp', cv2.IMREAD_GRAYSCALE)\n",
        "\n",
        "hist1 = cv2.calcHist([lena1], [0], None, [256], [0, 256])\n",
        "hist2 = cv2.calcHist([lena2], [0], None, [256], [0, 256])\n",
        "hist3 = cv2.calcHist([lena3], [0], None, [256], [0, 256])\n",
        "hist4 = cv2.calcHist([lena4], [0], None, [256], [0, 256])\n",
        "\n",
        "figLena, axsLena = plt.subplots(2, 4)\n",
        "figLena.set_size_inches(20, 10)\n",
        "axsLena[0, 0].imshow(lena1, 'gray', vmin=0, vmax=256)\n",
        "axsLena[0, 0].axis('off')\n",
        "axsLena[1, 0].plot(hist1)\n",
        "axsLena[1, 0].grid()\n",
        "axsLena[0, 1].imshow(lena2, 'gray', vmin=0, vmax=256)\n",
        "axsLena[0, 1].axis('off')\n",
        "axsLena[1, 1].plot(hist2)\n",
        "axsLena[1, 1].grid()\n",
        "axsLena[0, 2].imshow(lena3, 'gray', vmin=0, vmax=256)\n",
        "axsLena[0, 2].axis('off')\n",
        "axsLena[1, 2].plot(hist3)\n",
        "axsLena[1, 2].grid()\n",
        "axsLena[0, 3].imshow(lena4, 'gray', vmin=0, vmax=256)\n",
        "axsLena[0, 3].axis('off')\n",
        "axsLena[1, 3].plot(hist4)\n",
        "axsLena[1, 3].grid()\n"
      ]
    },
    {
      "cell_type": "markdown",
      "source": [
        "Im więcej jasnych pikseli, tym jaśniejszy jest obraz i na odwrót. Im lepiej  więcej różnych jasności pikseli jest rozdystrybuowanych na obrazie, tym jest on wyraźniejszy."
      ],
      "metadata": {
        "id": "lABirJZ39EXB"
      }
    },
    {
      "cell_type": "markdown",
      "source": [
        "## Rozciąganie histogramu\n",
        "\n",
        "Najprostszą metodą poprawienia jakości obrazu jest tzw. rozciągnięcie histogramu.\n",
        "Polega na przeskalowaniu wartości pikseli w obrazie tak, aby wykorzystać cały dostępny zakres [0-255] (oczywiście w przypadku obrazów w odcieniach szarości w reprezentacji 8-bitowej).\n",
        "\n",
        "1. Wczytaj obraz *hist1.bmp* w skali szarości.\n",
        "Oblicz i wyświetl histogram rozpatrywanego obrazu (na wspólnym rysunku z obrazem).\n",
        "Zwróć uwagę na ilość widocznych szczegółów.\n",
        "2. Rozciągnij histogram obrazu. W tym celu można wykorzystać funkcję `cv2.normalize`.\n",
        "    - Pierwszym argumentem funkcji jest obraz poddawany operacji.\n",
        "    - Drugim argumentem jest tablica do której zostanie wpisany wynik.\n",
        "    Należy ją najpierw zainicjalizować.\n",
        "    Najlepiej zrobić to funkcją `np.zeros`, której pierwszym argumentem jest rozmiar obrazu (`I.shape`), a drugim typ danych (`uint8`).\n",
        "    Można również przekazać `None`, a wynik przypisać do nowej zmiennej.\n",
        "    - Trzecim argumentem jest minimalna wartość po normalizacji.\n",
        "    - Czwartym argumentem jest wartość maksymalna po normalizacji.\n",
        "    - Ostatnim argumentem jest typ wykorzystanej normy (uogólnienie pojęcia długości wektora).\n",
        "    Należy wykorzystać normę `cv2.NORM_MINMAX`.\n",
        "3. Rezultat operacji wyświetl (obraz i jego histogram).\n",
        "4. Czy ilość \"widocznych\" szczegółów uległa zmianie?"
      ],
      "metadata": {
        "collapsed": false,
        "pycharm": {
          "name": "#%% md\n"
        },
        "id": "06BCCJG54Ys6"
      }
    },
    {
      "cell_type": "code",
      "execution_count": null,
      "outputs": [],
      "source": [
        "if not os.path.exists(\"hist1.bmp\") :\n",
        "    !wget https://raw.githubusercontent.com/vision-agh/poc_sw/master/03_Histogram/hist1.bmp --no-check-certificate\n",
        "\n",
        "if not os.path.exists(\"hist2.bmp\") :\n",
        "    !wget https://raw.githubusercontent.com/vision-agh/poc_sw/master/03_Histogram/hist2.bmp --no-check-certificate\n",
        "\n",
        "if not os.path.exists(\"hist3.bmp\") :\n",
        "    !wget https://raw.githubusercontent.com/vision-agh/poc_sw/master/03_Histogram/hist3.bmp --no-check-certificate\n",
        "\n",
        "if not os.path.exists(\"hist4.bmp\") :\n",
        "    !wget https://raw.githubusercontent.com/vision-agh/poc_sw/master/03_Histogram/hist4.bmp --no-check-certificate\n",
        "\n",
        "hist1 = cv2.imread('hist1.bmp', cv2.IMREAD_GRAYSCALE)\n",
        "\n",
        "hist1_hist=cv2.calcHist([hist1],[0],None,[256],[0,256])\n",
        "\n",
        "figHist, axsHist = plt.subplots(2, 2)\n",
        "figHist.set_size_inches(20, 10)\n",
        "axsHist[0, 0].imshow(hist1, 'gray', vmin=0, vmax=255)\n",
        "axsHist[0, 0].axis('off')\n",
        "axsHist[1, 0].plot(hist1_hist)\n",
        "axsHist[1, 0].grid()\n",
        "\n",
        "hist1_norm = cv2.normalize(hist1, None, 0, 256, cv2.NORM_MINMAX)\n",
        "hist1_norm_hist = cv2.calcHist([hist1_norm],[0],None,[256],[0,256])\n",
        "axsHist[0, 1].imshow(hist1_norm, 'gray', vmin=0, vmax=255)\n",
        "axsHist[0, 1].axis('off')\n",
        "axsHist[1, 1].plot(hist1_norm_hist)\n",
        "axsHist[1, 1].grid()"
      ],
      "metadata": {
        "pycharm": {
          "name": "#%% Zadanie 2 - rozciąganie\n"
        },
        "id": "QPcrLaEn4Ys7"
      }
    },
    {
      "cell_type": "markdown",
      "source": [
        "Po rozciągnięciu histogramu możemy zobaczyć większą ilość szczegółów."
      ],
      "metadata": {
        "id": "KQFDjFb1B_oT"
      }
    },
    {
      "cell_type": "markdown",
      "source": [
        "## Wyrównywanie histogramu\n",
        "\n",
        "<div style=\"text-align: justify\">\n",
        "Bardziej zaawansowaną metodą jest tzw. wyrównywanie histogramu (ang. *histogram equalization – HE*).\n",
        "Idea jest następująca: z punktu widzenia lepszego wykorzystania dostępnych poziomów jasności pożądane jest rozciągnięcie \"szczytów\" histogramu, a~skompresowanie \"dolin\" tak, aby taka sama liczba pikseli reprezentowana była przez każdy z dostępnych poziomów jasności (a przynjamniej przybliżona).\n",
        "Warto zwrócić uwagę, że takie przekształcenie powoduje częściową utratę informacji o szczegółach w obszarach \"dolin\".\n",
        "Inaczej mówiąc, dążymy do sytuacji, aby histogram był względnie jednostajny.\n",
        "Operacją, która pozwala wykonać wyrównywanie histogramu, jest przekształcenie LUT z funkcją przejścia w postaci histogramu skumulowanego danego obrazu.</div><br>\n",
        "\n",
        "<div style=\"text-align: justify\">\n",
        "Histogram skumulowany to funkcja obliczona na podstawie histogramu.\n",
        "Jej pierwszy element to liczba pikseli o odcieniu $0$.\n",
        "Kolejne wartości to liczba pikseli o odcieniach od $0$ do $n$.</div>\n",
        "\n",
        "\\begin{equation}\n",
        "C(n) = \\sum_{i=0}^{n} h(i)\n",
        "\\end{equation}\n",
        "\n",
        "<div style=\"text-align: justify\">\n",
        "Jeżeli histogram jest w postaci znormalizowanej (gęstość rozkładu prawdopodobieństwa) to histogram skumulowany stanowi dystrybuantę rozkładu prawdopodobieństwa.</div><br>\n",
        "\n",
        "1. Wyznacz histogram skumulowany dla obrazu *hist1.bmp*.\n",
        "W tym celu wykorzystaj metodę `cumsum` dla histogramu wczytanego obrazu.\n",
        "Nie przyjmuje ona żadnych argumentów, a zwraca skumulowane wartości tablicy, dla której została użyta.\n",
        "Histogram należy wyliczyć dla **obrazka wejściowego**, a nie dla wyniku rozciągania.\n",
        "2. Histogram skumulowany wyświetl razem z histogramem zwykłym na jednym wykresie (nie obok siebie).\n",
        "Na potrzeby wyświetlenia przeskaluj histogram skumulowany tak, by miał taką samą wartość maksymalną jak zwykły histogram.\n",
        "W tym celu wykorzystaj metodę `max`.\n",
        "3. Wyświetlenie kilku linii na jednym wykresie może być zrealizowane w następujący sposób:\n",
        "        figHistCum, axsHistCum = plt.subplots()\n",
        "\n",
        "        axsHistCum.plot(HHist)\n",
        "        axsHistCum.plot(CHistNorm)\n",
        "        axsHistCum.grid()\n",
        "4. Teraz zaimplementuj klasyczny algorytm wyrównywania histogramu.\n",
        "Wykorzystać należy obliczony histogram skumulowany.\n",
        "Należy go przeskalować w taki sposób aby na jego podstawie zrealizować przekształcenie LUT, czyli do zakresu 0 - 255.\n",
        "\n",
        ">Uwaga. Opisany algorytm wyrównywania histogramu jest wersją uproszczoną.\n",
        ">W wersji pełnej należy podczas skalowania tablicy przekodowań LUT pominąć elementy równe *0*.\n",
        ">\n",
        ">W tym celu należy wykorzystać funkcje `np.ma.masked_equal` i `np.ma.filled`.\n",
        ">Pierwsza służy do ukrywania elementów tablicy, natomiast druga zamienia ukryte elementy na podaną wartość.\n",
        ">W tym przypadku elementem ukrywanym i wpisywaną wartością byłoby *0*.\n",
        "\n",
        "5. Na kolejnym rysunku wyświetl obrazek po przekształceniu, jego histogram oraz histogram skumulowany.\n",
        "Co szczególnego można powiedzieć o jego histogramie i histogramie skumulowanym?\n",
        "6. W bibliotece *OpenCV* dostępna jest funkcja wykonująca wyrównywanie histogramu `cv2.equalizeHist`.\n",
        "Jej argumentem jest obraz, którego histogram zostanie wyrównany. Zwraca natomiast obraz wynikowy.\n",
        "Na kolejnym rysunku wyświetl wynik funkcji, jego histogram oraz histogram skumulowany.\n",
        "7. W wykorzystywanej bibliotece zaimplementowana jest również metoda adaptacyjnego wyrównywania histogramu algorytmem CLAHE (ang. *Contrast Limited Adaptive Histogram Equalization*}.\n",
        "   Kilka słów wyjaśnienia.\n",
        "   Wadą poznanej metody HE jest jej \"globalność\" rozumiana jako nieuwzględnianie lokalnych właściwości obrazu.\n",
        "   Dlatego też powstała metoda adaptacyjnego wyrównywania histogramu (AHE).\n",
        "   Jest ona spotykana w dwóch wariantach:\n",
        "   - dla każdego piksela niezależnie, w pewnym jego otoczeniu, wyznaczany jest histogram i przeprowadzane wyrównywanie.\n",
        "     Jak nietrudno się domyślić rozwiązanie jest dość kosztowne obliczeniowo.\n",
        "   - obraz wejściowy dzielony jest na nienachodzące na siebie prostokątne okna.\n",
        "     W każdym z okien obliczany jest histogram i przeprowadzane jest wyrównywanie.\n",
        "     W celu eliminacji błędów na granicy okien, stosuje się interpolację.\n",
        "\n",
        "   Metoda AHE ma jednak tą wadę, że w obszarach jednorodnych wzmacnia szum.\n",
        "   Dlatego też zaproponowano rozwiązanie CLAHE, które zakłada ograniczenie kontrastu (CL).\n",
        "   W metodzie definiuje się maksymalną wartość danego przedziału histogramu (próg ograniczenia kontrastu).\n",
        "   Piksele, które przekraczają próg są następnie równomiernie rozdzielane pomiędzy poszczególne przedziały.\n",
        "   Bardziej szczegółowy opis obu metod dostępny jest na [Wikipedii](https://en.wikipedia.org/wiki/Adaptive_histogram_equalization).\n",
        "\n",
        "8.W celu użycia algorytmu należy wywołać funkcję `cv2.createCLAHE`.\n",
        "    - Pierwszym parametrem jest próg ograniczenia kontrastu.\n",
        "    - Drugi parametr definiuje na ile prostokątów zostanie podzielony obraz w rzęch i kolumnach.\n",
        "    - Zwracany jest zainicjalizowany *smart pointer* do klasy `cv::CLAHE`.\n",
        "9. Aby wykonać wyrównywanie należy użyć metody `apply`.\n",
        "Jej argumentem jest obraz wejściowy. Zwracany jest obraz o zmodyfikowanym histogramie.\n",
        "10. Przetestuj różne parametry algorytmu CLAHE.\n",
        "11. W kolejnym etapie należy przetestować operacje (rozciąganie, wyrównywanie (HE) i adaptacyjne wyrównywanie CLAHE)  na histogramie dla obrazów rzeczywistych. *hist2.bmp*, *hist3.bmp*, *hist4.jpg*.\n",
        "W jednym oknie wyświetl: obraz oryginalny, rozciąganie, wyrównywanie HE oraz wyrównywanie CLAHE."
      ],
      "metadata": {
        "collapsed": false,
        "pycharm": {
          "name": "#%% md\n"
        },
        "id": "kH16QVhY4Ys7"
      }
    },
    {
      "cell_type": "code",
      "execution_count": null,
      "outputs": [],
      "source": [
        "hist1_hist_cum = hist1_hist.cumsum()\n",
        "hist1_norm_hist_cum = cv2.normalize(hist1_hist_cum, None, 0, hist1_hist.max(), cv2.NORM_MINMAX)\n",
        "\n",
        "figHistCum, axsHistCum = plt.subplots()\n",
        "\n",
        "axsHistCum.plot(hist1_norm_hist_cum)\n",
        "axsHistCum.plot(hist1_hist)\n",
        "axsHistCum.grid()"
      ],
      "metadata": {
        "pycharm": {
          "name": "#%% Zadanie 3 - histogram skumulowany\n"
        },
        "id": "zmctt0RK4Ys9"
      }
    },
    {
      "cell_type": "code",
      "execution_count": null,
      "outputs": [],
      "source": [
        "def wykresy(I):\n",
        "    histogram=cv2.calcHist([I],[0],None,[256],[0,256])\n",
        "    histogram_cum=histogram.cumsum()\n",
        "    Fig, Axs = plt.subplots(1, 3)\n",
        "    Fig.set_size_inches(20, 10)\n",
        "    Axs[0].imshow(I, 'gray', vmin=0, vmax=256)\n",
        "    Axs[0].axis('off')\n",
        "    Axs[1].plot(histogram)\n",
        "    Axs[1].grid()\n",
        "    Axs[2].plot(histogram_cum)\n",
        "    Axs[2].grid()"
      ],
      "metadata": {
        "pycharm": {
          "name": "#%% Zadanie 3 - wyrównywanie\n"
        },
        "id": "1VVWsza-4Ys-"
      }
    },
    {
      "cell_type": "code",
      "execution_count": null,
      "outputs": [],
      "source": [
        "hist1_norm_hist_cum = cv2.normalize(hist1_hist_cum, None, 0, 255, cv2.NORM_MINMAX)\n",
        "hist_lut=cv2.LUT(hist1, hist1_norm_hist_cum)\n",
        "\n",
        "wykresy(hist_lut)"
      ],
      "metadata": {
        "pycharm": {
          "name": "#%% Zadanie 3 - wyrównywanie OpenCV\n"
        },
        "id": "bU5ACPVJ4Ys-"
      }
    },
    {
      "cell_type": "code",
      "source": [
        "hist_equalized = cv2.equalizeHist(hist1)\n",
        "wykresy(hist_equalized)"
      ],
      "metadata": {
        "id": "EuibxGMLUQ49"
      },
      "execution_count": null,
      "outputs": []
    },
    {
      "cell_type": "code",
      "execution_count": null,
      "outputs": [],
      "source": [
        "hist_clahe = cv2.createCLAHE(20, (3,5))\n",
        "hist_clahe = hist_clahe.apply(hist1)\n",
        "wykresy(hist_clahe)"
      ],
      "metadata": {
        "pycharm": {
          "name": "#%% Zadanie 3 - CLAHE\n"
        },
        "id": "yvoCugbQ4Ys_"
      }
    },
    {
      "cell_type": "code",
      "source": [
        "def rozne(I, limit, prost):\n",
        "    norm = cv2.normalize(I, None, 0, 255, cv2.NORM_MINMAX)\n",
        "    wykresy(I)\n",
        "    #plt.title(\"Rozciąganie\")\n",
        "    I_equalized = cv2.equalizeHist(I)\n",
        "    wykresy(I_equalized)\n",
        "    #plt.title(\"Wyrównanie\")\n",
        "    I_clahe = cv2.createCLAHE(limit, prost)\n",
        "    I_clahe = I_clahe.apply(I)\n",
        "    wykresy(I_clahe)\n",
        "    #plt.title(\"Adaptacyjne\")"
      ],
      "metadata": {
        "id": "sGjYyuzv5sCn"
      },
      "execution_count": null,
      "outputs": []
    },
    {
      "cell_type": "code",
      "source": [
        "hist2 = cv2.imread(\"hist2.bmp\", cv2.IMREAD_GRAYSCALE)\n",
        "hist3 = cv2.imread(\"hist3.bmp\", cv2.IMREAD_GRAYSCALE)\n",
        "hist4 = cv2.imread(\"hist4.bmp\", cv2.IMREAD_GRAYSCALE)\n",
        "\n",
        "rozne(hist2, limit=20, prost=(3,3))\n",
        "rozne(hist3, limit=40, prost=(5,7))\n",
        "rozne(hist4, limit=70, prost=(10,13))"
      ],
      "metadata": {
        "id": "toXkx69g7RVq"
      },
      "execution_count": null,
      "outputs": []
    },
    {
      "cell_type": "markdown",
      "source": [
        "## Histogram dla obrazów kolorowych i jego wyrównywanie\n",
        "\n",
        "1. Wczytaj obraz *lenaRGB.bmp*.\n",
        "2. Wykonaj konwersję przestrzeni barw z BGR do RGB.\n",
        "3. Wyświetl wczytany obraz oraz histogram dla każdej składowej przestrzeni barw.\n",
        "W tym celu można użyć drugiego argumentu wykorzystywanej funkcji (numer kanału).\n",
        "4. Wykonaj wyrównywanie dla każdej składowej obrazu.\n",
        "Połącz otrzymane składowe w nowy obraz i wyświetl go.\n",
        "Jaka jest zasadnicza wada takiego podejścia?\n",
        "5. Przekształć obraz wejściowy do przestrzeni HSV (flaga `cv2.COLOR_BGR2HSV`).\n",
        "Wyświetl histogramy poszczególnych składowych.\n",
        "Manipulacji dokonujemy na składowej odpowiadającej za jasność, czyli V.\n",
        "Wykonaj wyrównywanie histogramu dla tej składowej.\n",
        "Dokonaj podmiany składowej V i wyświetl rezultat operacji.\n",
        "Uprzednio przeprowadź konwersję HSV->RGB (flaga `cv2.COLOR_HSV2RGB`).\n",
        "6. Wykonaj te same operacje dla obrazu *jezioro.jpg*."
      ],
      "metadata": {
        "collapsed": false,
        "pycharm": {
          "name": "#%% md\n"
        },
        "id": "a3tOFNMH4Ys_"
      }
    },
    {
      "cell_type": "code",
      "execution_count": null,
      "outputs": [],
      "source": [
        "if not os.path.exists(\"lenaRGB.bmp\") :\n",
        "    !wget https://raw.githubusercontent.com/vision-agh/poc_sw/master/03_Histogram/lenaRGB.bmp --no-check-certificate\n",
        "\n",
        "if not os.path.exists(\"jezioro.jpg\") :\n",
        "    !wget https://raw.githubusercontent.com/vision-agh/poc_sw/master/03_Histogram/jezioro.jpg --no-check-certificate\n",
        "\n",
        "lena_RGB = cv2.imread('lenaRGB.bmp')\n",
        "lena_RGB = cv2.cvtColor(lena_RGB, cv2.COLOR_BGR2RGB)"
      ],
      "metadata": {
        "pycharm": {
          "name": "#%% Zadanie 4 - histogram\n"
        },
        "id": "iHXbp6i-4YtA"
      }
    },
    {
      "cell_type": "code",
      "execution_count": null,
      "outputs": [],
      "source": [
        "hist_lena0=cv2.calcHist([lena_RGB],[0],None,[256],[0,256])\n",
        "hist_lena1=cv2.calcHist([lena_RGB],[1],None,[256],[0,256])\n",
        "hist_lena2=cv2.calcHist([lena_RGB],[2],None,[256],[0,256])"
      ],
      "metadata": {
        "pycharm": {
          "name": "#%% Zadanie 4 - wyrównanie\n"
        },
        "id": "qa2xktwj4YtA"
      }
    },
    {
      "cell_type": "code",
      "execution_count": null,
      "outputs": [],
      "source": [
        "fig, axs = plt.subplots(1, 4, figsize=(20,7))\n",
        "axs[0].imshow(lena_RGB, vmin=0, vmax=256)\n",
        "axs[0].axis('off')\n",
        "axs[1].plot(hist_lena0)\n",
        "axs[1].grid()\n",
        "axs[2].plot(hist_lena1)\n",
        "axs[2].grid()\n",
        "axs[3].plot(hist_lena2)\n",
        "axs[3].grid()"
      ],
      "metadata": {
        "pycharm": {
          "name": "#%% Zadanie 4 - HSV histogram\n"
        },
        "id": "5hCleSGj4YtB"
      }
    },
    {
      "cell_type": "code",
      "execution_count": null,
      "outputs": [],
      "source": [
        "lena_RGB0 = cv2.equalizeHist(lena_RGB[:,:,0])\n",
        "lena_RGB1 = cv2.equalizeHist(lena_RGB[:,:,1])\n",
        "lena_RGB2=cv2.equalizeHist(lena_RGB[:,:,2])\n",
        "\n",
        "lena_pol = np.zeros((512, 512, 3))\n",
        "lena_pol[:,:,0] = lena_RGB0\n",
        "lena_pol[:,:,1] = lena_RGB1\n",
        "lena_pol[:,:,2] = lena_RGB2\n",
        "\n",
        "lena_pol=cv2.normalize(lena_pol, None, 0, 255, cv2.NORM_MINMAX)\n",
        "lena_pol=lena_pol.astype('uint8')\n",
        "\n",
        "plt.imshow(lena_pol)\n",
        "plt.xticks([]), plt.yticks([])\n",
        "plt.show()"
      ],
      "metadata": {
        "pycharm": {
          "name": "#%% Zadanie 4 - HSV wyrównanie\n"
        },
        "id": "1BeZCqeD4YtB"
      }
    },
    {
      "cell_type": "code",
      "source": [
        "lena_BGR = cv2.imread('lenaRGB.bmp')\n",
        "lena_HSV = cv2.cvtColor(lena_BGR, cv2.COLOR_BGR2HSV)\n",
        "lena_HSV0 = cv2.calcHist([lena_HSV], [0], None, [256], [0, 256])\n",
        "lena_HSV1 = cv2.calcHist([lena_HSV], [1], None, [256], [0, 256])\n",
        "lena_HSV2 = cv2.calcHist([lena_HSV], [2], None, [256], [0, 256])\n",
        "\n",
        "fig, axs = plt.subplots(1, 3, figsize=(20,7))\n",
        "axs[0].plot(lena_HSV0)\n",
        "axs[0].grid()\n",
        "axs[1].plot(lena_HSV1)\n",
        "axs[1].grid()\n",
        "axs[2].plot(lena_HSV2)\n",
        "axs[2].grid()\n",
        "\n",
        "lena_norm_HSV=cv2.equalizeHist(lena_HSV[:,:,2])\n",
        "\n",
        "lena_HSV[:,:,2] = lena_norm_HSV\n",
        "\n",
        "lena_wyrow = cv2.cvtColor(lena_HSV, cv2.COLOR_HSV2RGB)\n",
        "lena_wyrowRGB = cv2.normalize(lena_wyrow, None, 0, 255, cv2.NORM_MINMAX)\n",
        "lena_wyrowRGB = lena_wyrowRGB.astype('uint8')\n",
        "\n",
        "plt.figure()\n",
        "plt.imshow(lena_wyrowRGB)\n",
        "plt.xticks([]), plt.yticks([])\n",
        "plt.show()"
      ],
      "metadata": {
        "id": "-kCCH4Bf_9D6"
      },
      "execution_count": null,
      "outputs": []
    },
    {
      "cell_type": "code",
      "source": [
        "jezioro_RGB = cv2.imread('jezioro.jpg')\n",
        "jezioro_RGB = cv2.cvtColor(jezioro_RGB, cv2.COLOR_BGR2RGB)\n",
        "\n",
        "hist_jezioro0=cv2.calcHist([jezioro_RGB],[0],None,[256],[0,256])\n",
        "hist_jezioro1=cv2.calcHist([jezioro_RGB],[1],None,[256],[0,256])\n",
        "hist_jezioro2=cv2.calcHist([jezioro_RGB],[2],None,[256],[0,256])\n",
        "\n",
        "fig, axs = plt.subplots(1, 4, figsize=(20,7))\n",
        "axs[0].imshow(jezioro_RGB, vmin=0, vmax=256)\n",
        "axs[0].axis('off')\n",
        "axs[1].plot(hist_jezioro0)\n",
        "axs[1].grid()\n",
        "axs[2].plot(hist_jezioro1)\n",
        "axs[2].grid()\n",
        "axs[3].plot(hist_jezioro2)\n",
        "axs[3].grid()\n",
        "\n",
        "jezioro_RGB0 = cv2.equalizeHist(jezioro_RGB[:,:,0])\n",
        "jezioro_RGB1 = cv2.equalizeHist(jezioro_RGB[:,:,1])\n",
        "jezioro_RGB2=cv2.equalizeHist(jezioro_RGB[:,:,2])\n",
        "\n",
        "jezioro_pol = np.zeros((482,640, 3))\n",
        "jezioro_pol[:,:,0] = jezioro_RGB0\n",
        "jezioro_pol[:,:,1] = jezioro_RGB1\n",
        "jezioro_pol[:,:,2] = jezioro_RGB2\n",
        "\n",
        "jezioro_pol=cv2.normalize(jezioro_pol, None, 0, 255, cv2.NORM_MINMAX)\n",
        "jezioro_pol=jezioro_pol.astype('uint8')\n",
        "\n",
        "plt.figure()\n",
        "plt.imshow(jezioro_pol)\n",
        "plt.xticks([]), plt.yticks([])\n",
        "plt.show()\n",
        "\n",
        "jezioro_BGR = cv2.imread('jezioro.jpg')\n",
        "jezioro_HSV = cv2.cvtColor(jezioro_BGR, cv2.COLOR_BGR2HSV)\n",
        "jezioro_HSV0 = cv2.calcHist([jezioro_HSV], [0], None, [256], [0, 256])\n",
        "jezioro_HSV1 = cv2.calcHist([jezioro_HSV], [1], None, [256], [0, 256])\n",
        "jezioro_HSV2 = cv2.calcHist([jezioro_HSV], [2], None, [256], [0, 256])\n",
        "\n",
        "plt.figure()\n",
        "fig, axs = plt.subplots(1, 3, figsize=(20,7))\n",
        "axs[0].plot(jezioro_HSV0)\n",
        "axs[0].grid()\n",
        "axs[1].plot(jezioro_HSV1)\n",
        "axs[1].grid()\n",
        "axs[2].plot(jezioro_HSV2)\n",
        "axs[2].grid()\n",
        "\n",
        "jezioro_norm_HSV=cv2.equalizeHist(jezioro_HSV[:,:,2])\n",
        "\n",
        "jezioro_HSV[:,:,2] = jezioro_norm_HSV\n",
        "\n",
        "jezioro_wyrow = cv2.cvtColor(jezioro_HSV, cv2.COLOR_HSV2RGB)\n",
        "jezioro_wyrowRGB = cv2.normalize(jezioro_wyrow, None, 0, 255, cv2.NORM_MINMAX)\n",
        "jezioro_wyrowRGB = jezioro_wyrowRGB.astype('uint8')\n",
        "\n",
        "plt.figure()\n",
        "plt.imshow(jezioro_wyrowRGB)\n",
        "plt.xticks([]), plt.yticks([])\n",
        "plt.show()"
      ],
      "metadata": {
        "id": "ueabiGx8_wAM"
      },
      "execution_count": null,
      "outputs": []
    },
    {
      "cell_type": "code",
      "source": [],
      "metadata": {
        "id": "TEZd84nOEv-A"
      },
      "execution_count": null,
      "outputs": []
    }
  ],
  "metadata": {
    "kernelspec": {
      "display_name": "Python 3",
      "language": "python",
      "name": "python3"
    },
    "language_info": {
      "codemirror_mode": {
        "name": "ipython",
        "version": 3
      },
      "file_extension": ".py",
      "mimetype": "text/x-python",
      "name": "python",
      "nbconvert_exporter": "python",
      "pygments_lexer": "ipython3",
      "version": "3.8.3"
    },
    "colab": {
      "provenance": []
    }
  },
  "nbformat": 4,
  "nbformat_minor": 0
}